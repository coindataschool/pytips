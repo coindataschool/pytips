{
 "cells": [
  {
   "attachments": {},
   "cell_type": "markdown",
   "metadata": {},
   "source": [
    "## How to apply `if...else...` on column values\n",
    "\n"
   ]
  },
  {
   "cell_type": "code",
   "execution_count": 1,
   "metadata": {},
   "outputs": [],
   "source": [
    "import pandas as pd\n",
    "import numpy as np\n",
    "from defillama2 import DefiLlama"
   ]
  },
  {
   "cell_type": "markdown",
   "metadata": {},
   "source": [
    "### Data Prep"
   ]
  },
  {
   "cell_type": "code",
   "execution_count": 2,
   "metadata": {},
   "outputs": [
    {
     "name": "stdout",
     "output_type": "stream",
     "text": [
      "<class 'pandas.core.frame.DataFrame'>\n",
      "RangeIndex: 3524 entries, 0 to 3523\n",
      "Data columns (total 10 columns):\n",
      " #   Column       Non-Null Count  Dtype  \n",
      "---  ------       --------------  -----  \n",
      " 0   name         3524 non-null   object \n",
      " 1   symbol       3524 non-null   object \n",
      " 2   chain        3524 non-null   object \n",
      " 3   category     3524 non-null   object \n",
      " 4   chains       3524 non-null   object \n",
      " 5   tvl          3524 non-null   float64\n",
      " 6   change_1d    2887 non-null   float64\n",
      " 7   change_7d    2822 non-null   float64\n",
      " 8   mcap         1455 non-null   float64\n",
      " 9   forked_from  2675 non-null   object \n",
      "dtypes: float64(4), object(6)\n",
      "memory usage: 275.4+ KB\n"
     ]
    }
   ],
   "source": [
    "obj = DefiLlama() # create a DefiLlama instance\n",
    "df = obj.get_protocols_fundamentals() # get fundamentals for all protocols\n",
    "df.info()"
   ]
  },
  {
   "cell_type": "code",
   "execution_count": 3,
   "metadata": {},
   "outputs": [
    {
     "data": {
      "text/plain": [
       "Dexes                       1079\n",
       "Yield                        458\n",
       "Lending                      313\n",
       "Derivatives                  175\n",
       "Services                     166\n",
       "Liquid Staking               127\n",
       "Reserve Currency             123\n",
       "Yield Aggregator             122\n",
       "Algo-Stables                 111\n",
       "CDP                          108\n",
       "Farm                          91\n",
       "Indexes                       52\n",
       "Bridge                        47\n",
       "Options                       44\n",
       "Launchpad                     41\n",
       "Gaming                        39\n",
       "CEX                           37\n",
       "Synthetics                    35\n",
       "NFT Marketplace               34\n",
       "Prediction Market             34\n",
       "RWA                           31\n",
       "Liquidity manager             28\n",
       "NFT Lending                   28\n",
       "SoFi                          28\n",
       "Cross Chain                   27\n",
       "Insurance                     25\n",
       "Leveraged Farming             22\n",
       "Staking Pool                  17\n",
       "Payments                      16\n",
       "Chain                         16\n",
       "Privacy                       13\n",
       "Options Vault                 13\n",
       "Oracle                         8\n",
       "Uncollateralized Lending       8\n",
       "Decentralized Stablecoin       4\n",
       "RWA Lending                    3\n",
       "Infrastructure                 1\n",
       "Name: category, dtype: int64"
      ]
     },
     "execution_count": 3,
     "metadata": {},
     "output_type": "execute_result"
    }
   ],
   "source": [
    "# get freq count for each category\n",
    "category_cnts = df.category.value_counts()\n",
    "category_cnts "
   ]
  },
  {
   "cell_type": "code",
   "execution_count": 4,
   "metadata": {},
   "outputs": [
    {
     "name": "stdout",
     "output_type": "stream",
     "text": [
      "Index(['Dexes', 'Yield', 'Lending', 'Derivatives', 'Services'], dtype='object') \n",
      "\n",
      "\n",
      "Index(['Dexes', 'Yield', 'Lending', 'Derivatives', 'Services',\n",
      "       'Liquid Staking', 'Reserve Currency', 'Yield Aggregator',\n",
      "       'Algo-Stables', 'CDP'],\n",
      "      dtype='object') \n",
      "\n",
      "\n"
     ]
    }
   ],
   "source": [
    "# get the top5 and top10 categories\n",
    "top5  = category_cnts.index[:5]\n",
    "top10 = category_cnts.index[:10]\n",
    "print(top5, \"\\n\\n\")\n",
    "print(top10, \"\\n\\n\")"
   ]
  },
  {
   "cell_type": "markdown",
   "metadata": {},
   "source": [
    "### Use `.where()` to perform `if...else...`"
   ]
  },
  {
   "cell_type": "code",
   "execution_count": 5,
   "metadata": {},
   "outputs": [
    {
     "data": {
      "text/plain": [
       "0          Other\n",
       "1          Other\n",
       "2          Other\n",
       "3          Other\n",
       "4          Other\n",
       "          ...   \n",
       "3519       Dexes\n",
       "3520    Services\n",
       "3521       Other\n",
       "3522       Other\n",
       "3523    Services\n",
       "Name: category2, Length: 3524, dtype: object"
      ]
     },
     "execution_count": 5,
     "metadata": {},
     "output_type": "execute_result"
    }
   ],
   "source": [
    "# derive a new category col based on if its values are in top5:\n",
    "#   if top5, use the original value\n",
    "#   else, use 'Other'\n",
    "df['category2'] = df['category'].where(df['category'].isin(top5), 'Other')\n",
    "# remark: col.where(condition, other='some value'), and whenever condition is \n",
    "#   true, the original values of col are used, otherwise, 'some value' are used.\n",
    "df['category2']"
   ]
  },
  {
   "cell_type": "markdown",
   "metadata": {},
   "source": [
    "### What if we want to do `if...elif...else`?"
   ]
  },
  {
   "cell_type": "code",
   "execution_count": 6,
   "metadata": {},
   "outputs": [
    {
     "name": "stdout",
     "output_type": "stream",
     "text": [
      "['not in top10' 'top6 ~ top10' 'not in top10' ... 'not in top10'\n",
      " 'not in top10' 'Services'] \n",
      "\n",
      "\n",
      "0       not in top10\n",
      "1       top6 ~ top10\n",
      "2       not in top10\n",
      "3       not in top10\n",
      "4       not in top10\n",
      "            ...     \n",
      "3519           Dexes\n",
      "3520        Services\n",
      "3521    not in top10\n",
      "3522    not in top10\n",
      "3523        Services\n",
      "Name: category3, Length: 3524, dtype: object\n"
     ]
    }
   ],
   "source": [
    "# derive a new category col based on the frequencies of its values:\n",
    "#   if top5, use the original value\n",
    "#   else if top10, use 'top6 ~ top10'\n",
    "#   else, use 'not in top10'\n",
    "arr = np.select([df['category'].isin(top5), df['category'].isin(top10)], \n",
    "                [df['category'], 'top6 ~ top10'], 'not in top10')\n",
    "print(arr, '\\n\\n')\n",
    "df['category3'] = arr\n",
    "print(df['category3'])"
   ]
  },
  {
   "cell_type": "markdown",
   "metadata": {},
   "source": [
    "### Sanity Check"
   ]
  },
  {
   "cell_type": "code",
   "execution_count": 7,
   "metadata": {},
   "outputs": [
    {
     "data": {
      "text/html": [
       "<div>\n",
       "<style scoped>\n",
       "    .dataframe tbody tr th:only-of-type {\n",
       "        vertical-align: middle;\n",
       "    }\n",
       "\n",
       "    .dataframe tbody tr th {\n",
       "        vertical-align: top;\n",
       "    }\n",
       "\n",
       "    .dataframe thead th {\n",
       "        text-align: right;\n",
       "    }\n",
       "</style>\n",
       "<table border=\"1\" class=\"dataframe\">\n",
       "  <thead>\n",
       "    <tr style=\"text-align: right;\">\n",
       "      <th></th>\n",
       "      <th>category2</th>\n",
       "      <th>category</th>\n",
       "    </tr>\n",
       "  </thead>\n",
       "  <tbody>\n",
       "    <tr>\n",
       "      <th>Dexes</th>\n",
       "      <td>1079</td>\n",
       "      <td>1079</td>\n",
       "    </tr>\n",
       "    <tr>\n",
       "      <th>Yield</th>\n",
       "      <td>458</td>\n",
       "      <td>458</td>\n",
       "    </tr>\n",
       "    <tr>\n",
       "      <th>Lending</th>\n",
       "      <td>313</td>\n",
       "      <td>313</td>\n",
       "    </tr>\n",
       "    <tr>\n",
       "      <th>Derivatives</th>\n",
       "      <td>175</td>\n",
       "      <td>175</td>\n",
       "    </tr>\n",
       "    <tr>\n",
       "      <th>Services</th>\n",
       "      <td>166</td>\n",
       "      <td>166</td>\n",
       "    </tr>\n",
       "  </tbody>\n",
       "</table>\n",
       "</div>"
      ],
      "text/plain": [
       "             category2  category\n",
       "Dexes             1079      1079\n",
       "Yield              458       458\n",
       "Lending            313       313\n",
       "Derivatives        175       175\n",
       "Services           166       166"
      ]
     },
     "execution_count": 7,
     "metadata": {},
     "output_type": "execute_result"
    }
   ],
   "source": [
    "pd.merge(df['category2'].value_counts(), category_cnts[:5], \n",
    "         left_index=True, right_index=True)"
   ]
  },
  {
   "cell_type": "code",
   "execution_count": 8,
   "metadata": {},
   "outputs": [],
   "source": [
    "assert df['category2'].value_counts()['Other'] == category_cnts[5:].sum()"
   ]
  },
  {
   "cell_type": "code",
   "execution_count": 9,
   "metadata": {},
   "outputs": [
    {
     "data": {
      "text/html": [
       "<div>\n",
       "<style scoped>\n",
       "    .dataframe tbody tr th:only-of-type {\n",
       "        vertical-align: middle;\n",
       "    }\n",
       "\n",
       "    .dataframe tbody tr th {\n",
       "        vertical-align: top;\n",
       "    }\n",
       "\n",
       "    .dataframe thead th {\n",
       "        text-align: right;\n",
       "    }\n",
       "</style>\n",
       "<table border=\"1\" class=\"dataframe\">\n",
       "  <thead>\n",
       "    <tr style=\"text-align: right;\">\n",
       "      <th></th>\n",
       "      <th>category3</th>\n",
       "      <th>category</th>\n",
       "    </tr>\n",
       "  </thead>\n",
       "  <tbody>\n",
       "    <tr>\n",
       "      <th>Dexes</th>\n",
       "      <td>1079</td>\n",
       "      <td>1079</td>\n",
       "    </tr>\n",
       "    <tr>\n",
       "      <th>Yield</th>\n",
       "      <td>458</td>\n",
       "      <td>458</td>\n",
       "    </tr>\n",
       "    <tr>\n",
       "      <th>Lending</th>\n",
       "      <td>313</td>\n",
       "      <td>313</td>\n",
       "    </tr>\n",
       "    <tr>\n",
       "      <th>Derivatives</th>\n",
       "      <td>175</td>\n",
       "      <td>175</td>\n",
       "    </tr>\n",
       "    <tr>\n",
       "      <th>Services</th>\n",
       "      <td>166</td>\n",
       "      <td>166</td>\n",
       "    </tr>\n",
       "  </tbody>\n",
       "</table>\n",
       "</div>"
      ],
      "text/plain": [
       "             category3  category\n",
       "Dexes             1079      1079\n",
       "Yield              458       458\n",
       "Lending            313       313\n",
       "Derivatives        175       175\n",
       "Services           166       166"
      ]
     },
     "execution_count": 9,
     "metadata": {},
     "output_type": "execute_result"
    }
   ],
   "source": [
    "pd.merge(df['category3'].value_counts(), category_cnts[:5], \n",
    "         left_index=True, right_index=True)"
   ]
  },
  {
   "cell_type": "code",
   "execution_count": 10,
   "metadata": {},
   "outputs": [],
   "source": [
    "assert df['category3'].value_counts()['top6 ~ top10'] == category_cnts[5:10].sum()"
   ]
  },
  {
   "cell_type": "code",
   "execution_count": 11,
   "metadata": {},
   "outputs": [],
   "source": [
    "assert df['category3'].value_counts()['not in top10'] == category_cnts[10:].sum()"
   ]
  },
  {
   "cell_type": "code",
   "execution_count": null,
   "metadata": {},
   "outputs": [],
   "source": []
  }
 ],
 "metadata": {
  "kernelspec": {
   "display_name": "Python 3 (ipykernel)",
   "language": "python",
   "name": "python3"
  },
  "language_info": {
   "codemirror_mode": {
    "name": "ipython",
    "version": 3
   },
   "file_extension": ".py",
   "mimetype": "text/x-python",
   "name": "python",
   "nbconvert_exporter": "python",
   "pygments_lexer": "ipython3",
   "version": "3.10.8"
  }
 },
 "nbformat": 4,
 "nbformat_minor": 4
}
