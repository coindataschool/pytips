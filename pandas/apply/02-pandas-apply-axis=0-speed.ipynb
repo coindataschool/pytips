{
 "cells": [
  {
   "attachments": {},
   "cell_type": "markdown",
   "metadata": {},
   "source": [
    "## Pandas `apply(func, axis=0)` Speed\n",
    "\n",
    "> Pandas `apply()` is often slower than vectorization and list comp and \n",
    "> consumes a lot more memory.\n",
    "\n",
    "*Note: The performance of pandas `apply()` has improved as of July 2023. In particular, `apply()` column-wise (`axis=0`) is pretty fast, and in some instances, can be on a par with vectorization or list comp. But the above quote holds true in general.*\n",
    "\n",
    "This notebook compares the speed of using pandas `apply()` column wise \n",
    "(`axis=0`, default) on a DataFrame vs. using vectorization and list comp. \n",
    "If you are new to pandas `apply()`, you may want to learn its [most common use pattern](https://github.com/coindataschool/pytips/blob/main/pandas/apply/01-pandas-apply-common-use-pattern.ipynb) first."
   ]
  },
  {
   "cell_type": "code",
   "execution_count": 1,
   "metadata": {},
   "outputs": [],
   "source": [
    "import pandas as pd\n",
    "import numpy as np\n",
    "from defillama2 import DefiLlama"
   ]
  },
  {
   "cell_type": "markdown",
   "metadata": {},
   "source": [
    "### Data Prep"
   ]
  },
  {
   "cell_type": "code",
   "execution_count": 2,
   "metadata": {},
   "outputs": [
    {
     "name": "stdout",
     "output_type": "stream",
     "text": [
      "<class 'pandas.core.frame.DataFrame'>\n",
      "RangeIndex: 3028 entries, 0 to 3027\n",
      "Data columns (total 10 columns):\n",
      " #   Column       Non-Null Count  Dtype  \n",
      "---  ------       --------------  -----  \n",
      " 0   name         3028 non-null   object \n",
      " 1   symbol       3028 non-null   object \n",
      " 2   chain        3028 non-null   object \n",
      " 3   category     3028 non-null   object \n",
      " 4   chains       3028 non-null   object \n",
      " 5   tvl          3028 non-null   float64\n",
      " 6   change_1d    2497 non-null   float64\n",
      " 7   change_7d    2479 non-null   float64\n",
      " 8   mcap         1421 non-null   float64\n",
      " 9   forked_from  2185 non-null   object \n",
      "dtypes: float64(4), object(6)\n",
      "memory usage: 236.7+ KB\n"
     ]
    }
   ],
   "source": [
    "obj = DefiLlama() # create a DefiLlama instance\n",
    "df = obj.get_protocols_fundamentals() # get fundamentals for all protocols\n",
    "df.info()"
   ]
  },
  {
   "cell_type": "code",
   "execution_count": 3,
   "metadata": {},
   "outputs": [
    {
     "data": {
      "text/html": [
       "<div>\n",
       "<style scoped>\n",
       "    .dataframe tbody tr th:only-of-type {\n",
       "        vertical-align: middle;\n",
       "    }\n",
       "\n",
       "    .dataframe tbody tr th {\n",
       "        vertical-align: top;\n",
       "    }\n",
       "\n",
       "    .dataframe thead th {\n",
       "        text-align: right;\n",
       "    }\n",
       "</style>\n",
       "<table border=\"1\" class=\"dataframe\">\n",
       "  <thead>\n",
       "    <tr style=\"text-align: right;\">\n",
       "      <th></th>\n",
       "      <th>tvl</th>\n",
       "      <th>change_1d</th>\n",
       "      <th>change_7d</th>\n",
       "      <th>mcap</th>\n",
       "    </tr>\n",
       "    <tr>\n",
       "      <th>name</th>\n",
       "      <th></th>\n",
       "      <th></th>\n",
       "      <th></th>\n",
       "      <th></th>\n",
       "    </tr>\n",
       "  </thead>\n",
       "  <tbody>\n",
       "    <tr>\n",
       "      <th>Lido</th>\n",
       "      <td>1.497509e+10</td>\n",
       "      <td>-0.943175</td>\n",
       "      <td>3.378131</td>\n",
       "      <td>1.807643e+09</td>\n",
       "    </tr>\n",
       "    <tr>\n",
       "      <th>Coinbase Wrapped Staked ETH</th>\n",
       "      <td>2.301431e+09</td>\n",
       "      <td>-0.938579</td>\n",
       "      <td>3.595419</td>\n",
       "      <td>NaN</td>\n",
       "    </tr>\n",
       "    <tr>\n",
       "      <th>Rocket Pool</th>\n",
       "      <td>1.910880e+09</td>\n",
       "      <td>-1.204842</td>\n",
       "      <td>2.385279</td>\n",
       "      <td>6.791946e+08</td>\n",
       "    </tr>\n",
       "    <tr>\n",
       "      <th>Frax Ether</th>\n",
       "      <td>4.557908e+08</td>\n",
       "      <td>-0.976026</td>\n",
       "      <td>2.766195</td>\n",
       "      <td>NaN</td>\n",
       "    </tr>\n",
       "    <tr>\n",
       "      <th>StakeWise</th>\n",
       "      <td>1.842846e+08</td>\n",
       "      <td>-0.863176</td>\n",
       "      <td>2.176060</td>\n",
       "      <td>2.157775e+07</td>\n",
       "    </tr>\n",
       "  </tbody>\n",
       "</table>\n",
       "</div>"
      ],
      "text/plain": [
       "                                      tvl  change_1d  change_7d          mcap\n",
       "name                                                                         \n",
       "Lido                         1.497509e+10  -0.943175   3.378131  1.807643e+09\n",
       "Coinbase Wrapped Staked ETH  2.301431e+09  -0.938579   3.595419           NaN\n",
       "Rocket Pool                  1.910880e+09  -1.204842   2.385279  6.791946e+08\n",
       "Frax Ether                   4.557908e+08  -0.976026   2.766195           NaN\n",
       "StakeWise                    1.842846e+08  -0.863176   2.176060  2.157775e+07"
      ]
     },
     "execution_count": 3,
     "metadata": {},
     "output_type": "execute_result"
    }
   ],
   "source": [
    "cond = df['category'] == 'Liquid Staking' # focus on LSD protocols\n",
    "cols = ['name', 'tvl', 'change_1d', 'change_7d', 'mcap'] # focus on these cols\n",
    "subdf = df.loc[cond, cols].reset_index(drop=True) # drop the original int index\n",
    "subdf.set_index('name', inplace=True) # use name as index\n",
    "subdf.head()"
   ]
  },
  {
   "cell_type": "markdown",
   "metadata": {},
   "source": [
    "### Speed Comparison"
   ]
  },
  {
   "cell_type": "code",
   "execution_count": 4,
   "metadata": {},
   "outputs": [
    {
     "name": "stdout",
     "output_type": "stream",
     "text": [
      "957 µs ± 17.4 µs per loop (mean ± std. dev. of 7 runs, 1,000 loops each)\n",
      "169 µs ± 1.78 µs per loop (mean ± std. dev. of 7 runs, 10,000 loops each)\n",
      "816 µs ± 59.8 µs per loop (mean ± std. dev. of 7 runs, 1,000 loops each)\n"
     ]
    }
   ],
   "source": [
    "%timeit subdf.apply(lambda col: col.max() - col.min(), axis=0) # apply with raw=False\n",
    "# pass each col as a ndarray to the function, lose index, faster than raw=False (default)\n",
    "%timeit subdf.apply(lambda col: col.max() - col.min(), axis=0, raw=True) # apply with raw=True\n",
    "%timeit subdf.max() - subdf.min() # vectorization"
   ]
  },
  {
   "cell_type": "markdown",
   "metadata": {},
   "source": [
    "($\\mu s$ is microseconds and $ms$ is milliseconds.)\n",
    "\n",
    "In this toy example, we see \n",
    "- `apply(raw=True)` is the fastest, \n",
    "- vectorization comes in the 2nd place, and \n",
    "- `apply(raw=False)` is the slowest.\n",
    "\n",
    "Unfortunately, we cannot use `raw=True` all the time. Setting `raw=True` passes \n",
    "each column as a ndarray to the function. When the function is a pandas Series \n",
    "method, it will throw an error because ndarray doesn't have Series attributes. \n",
    "(See code chunk below for an example.) \n",
    "\n",
    "On the other hand, having `raw=False` (default) passes each column as a pandas \n",
    "Series to the function, so it will still work if the function is a Series method."
   ]
  },
  {
   "cell_type": "code",
   "execution_count": 5,
   "metadata": {},
   "outputs": [
    {
     "name": "stdout",
     "output_type": "stream",
     "text": [
      "704 µs ± 19.3 µs per loop (mean ± std. dev. of 7 runs, 1,000 loops each)\n",
      "365 µs ± 16.7 µs per loop (mean ± std. dev. of 7 runs, 1,000 loops each)\n"
     ]
    }
   ],
   "source": [
    "# extract protocols with the largest TVL, 1 and 7 day change in TVL, or MCap\n",
    "%timeit subdf.apply(lambda col: col.idxmax(), axis=0) # apply with raw=False\n",
    "# %timeit subdf.apply(lambda col: col.idxmax(), axis=0, raw=True) # throws error because ndarray does not have .idxmax() method\n",
    "%timeit subdf.idxmax() # vectorization"
   ]
  },
  {
   "cell_type": "markdown",
   "metadata": {},
   "source": [
    "In this example, setting `raw=True` throws an error because we are calling \n",
    "on each column the `idxmax()` method, which is associated with pandas Series. \n",
    "Notice that vectorization is again faster than `apply(raw=False)`. \n",
    "\n",
    "Let's now throw list comp in the mix and compare all three methods. In the next \n",
    "example, We'll apply a transformation function over 2 columns on a DataFrame. \n",
    "(Transformation fucntions don't change input data shape.) "
   ]
  },
  {
   "cell_type": "code",
   "execution_count": 6,
   "metadata": {},
   "outputs": [
    {
     "name": "stdout",
     "output_type": "stream",
     "text": [
      "727 µs ± 11.3 µs per loop (mean ± std. dev. of 7 runs, 1,000 loops each)\n",
      "1.04 ms ± 26.6 µs per loop (mean ± std. dev. of 7 runs, 1,000 loops each)\n",
      "524 µs ± 10.8 µs per loop (mean ± std. dev. of 7 runs, 1,000 loops each)\n"
     ]
    }
   ],
   "source": [
    "# create categorical versions for TVL and Mcap: if value > 500M, then \"500M+\", else \"500M-\"\n",
    "def bin_var(col): \n",
    "    return np.where(col >= 500*1e6, \"500M+\", \"500M-\")\n",
    "\n",
    "%timeit subdf[['tvl', 'mcap']].apply(bin_var, raw=True) # apply with raw=True\n",
    "%timeit [bin_var(subdf[[cname]].values) for cname in ['tvl', 'mcap']] # list comp\n",
    "%timeit bin_var(subdf[['tvl', 'mcap']].values) # vectorization"
   ]
  },
  {
   "cell_type": "markdown",
   "metadata": {},
   "source": [
    "We see vectorization beats `apply(raw=True)` and `apply(raw=True)` beats list comp. \n",
    "But the output from vectorization and list comp are not DataFrames, and we'd need \n",
    "to write extra code to convert them to DataFrame and assign index and column names. \n",
    "\n",
    "Also, look at the above code chunk again, why did I use \n",
    "`bin_var(subdf[[cname]].values)` instead of `bin_var(subdf[[cname]])` and \n",
    "`bin_var(subdf[['tvl', 'mcap']].values)` instead of `bin_var(subdf[['tvl', 'mcap']])`?\n",
    "That's because `.values` extracts the underlying numpy array from Series or DataFrame, \n",
    "and calling `bin_var()` on numpy arrays improves performance."
   ]
  },
  {
   "cell_type": "code",
   "execution_count": 7,
   "metadata": {},
   "outputs": [
    {
     "name": "stdout",
     "output_type": "stream",
     "text": [
      "258 µs ± 2.56 µs per loop (mean ± std. dev. of 7 runs, 1,000 loops each)\n",
      "120 µs ± 2.46 µs per loop (mean ± std. dev. of 7 runs, 10,000 loops each)\n"
     ]
    }
   ],
   "source": [
    "%timeit subdf[subdf['tvl'] > 1e9]          # slower\n",
    "%timeit subdf[subdf['tvl'].values > 1e9]   # faster"
   ]
  },
  {
   "cell_type": "markdown",
   "metadata": {},
   "source": [
    "### Summary\n",
    "\n",
    "- `apply(func, axis=0)` is pretty fast and it conveniently returns a pandas DataFrame/Series.\n",
    "- Vectorization is usually the fastest. So vectorize if possible. (Did you \n",
    "  realize that all my functions above that went into `apply()` were vectorized?)\n",
    "  Also, numpy vectorization beats pandas vectorization. (Remember the examples \n",
    "  I gave above where `df['col'].values` makes things faster than `df['col']`?)\n",
    "- List comp can be slower or faster than `apply()` or vectorization. So \n",
    "  definitely keep it in your toolbox. Can you find an example where \n",
    "  list comp beats vectorization?\n",
    "- Vectorization and list comp strip away indices and column names and output numpy \n",
    "  arrayes. If you need a DataFrame/Series, you will need to write extra code to \n",
    "  covert and re-assign the index and header. \n",
    "\n",
    "As a rule of thumb, you want to do things in this order:\n",
    "1. Vectorization (numpy vectorization first, and then pandas vectorization).\n",
    "2. List comp.\n",
    "3. Pandas `apply()`.\n",
    "\n",
    "And you want to avoid iteration over `df.to_dict()`, `df.to_records()`, `df.iloc[]`, or `df.iterrows()`.\n",
    "\n",
    "### Good Read\n",
    "\n",
    "- Get DeFi data easily using [defillama2](https://github.com/coindataschool/defillama2).\n",
    "- [Stop using `iterrows()`](https://ryxcommar.com/2020/01/15/for-the-love-of-god-stop-using-iterrows/).\n",
    "- [Don't iterate over rows in Pandas DataFrame](https://stackoverflow.com/questions/16476924/how-to-iterate-over-rows-in-a-dataframe-in-pandas/55557758#55557758).\n",
    "- [Are `for` loops bad in Pandas?](https://stackoverflow.com/questions/54028199/are-for-loops-in-pandas-really-bad-when-should-i-care).\n",
    "\n",
    "### Referral\n",
    "\n",
    "- Digital Ocean is a cloud computing platform where you can rent remote servers for cheap. \n",
    "  I have my remote data science server there. You can do the same and [get $200 credit](https://m.do.co/c/0a435cb96813). "
   ]
  },
  {
   "cell_type": "markdown",
   "metadata": {},
   "source": []
  }
 ],
 "metadata": {
  "kernelspec": {
   "display_name": "Python 3 (ipykernel)",
   "language": "python",
   "name": "python3"
  },
  "language_info": {
   "codemirror_mode": {
    "name": "ipython",
    "version": 3
   },
   "file_extension": ".py",
   "mimetype": "text/x-python",
   "name": "python",
   "nbconvert_exporter": "python",
   "pygments_lexer": "ipython3",
   "version": "3.10.8"
  }
 },
 "nbformat": 4,
 "nbformat_minor": 4
}
