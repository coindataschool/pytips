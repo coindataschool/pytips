{
 "cells": [
  {
   "attachments": {},
   "cell_type": "markdown",
   "metadata": {},
   "source": [
    "## Pandas `apply(func, axis=1)` is even slower than `itertuples()`\n",
    "\n",
    "If you read my last [notebook](https://github.com/coindataschool/pytips/blob/main/pandas/apply/03-pandas-apply-axis%3D1-speed.ipynb), you know you should avoid using `apply(func, axis=1)` because `apply()` a function row-wise (for each row) on a DataFrame is super slow. It is even slower than `itertuples()`, which is not fast and should also be avoided. In this notebook, I want to show another example to really drive the message home:\n",
    "\n",
    "> Don't use `apply(func, axis=1)`. It is slower than `itertuples()`."
   ]
  },
  {
   "cell_type": "code",
   "execution_count": 1,
   "metadata": {},
   "outputs": [],
   "source": [
    "import pandas as pd\n",
    "import numpy as np\n",
    "from defillama2 import DefiLlama"
   ]
  },
  {
   "cell_type": "markdown",
   "metadata": {},
   "source": [
    "### Data Prep\n",
    "\n",
    "Let's get the current prices of the following tokens from the corresponding chains."
   ]
  },
  {
   "cell_type": "code",
   "execution_count": 2,
   "metadata": {},
   "outputs": [
    {
     "name": "stdout",
     "output_type": "stream",
     "text": [
      "<class 'pandas.core.frame.DataFrame'>\n",
      "DatetimeIndex: 4 entries, 2023-07-25 12:27:53+00:00 to 2023-07-25 12:27:56+00:00\n",
      "Data columns (total 5 columns):\n",
      " #   Column         Non-Null Count  Dtype  \n",
      "---  ------         --------------  -----  \n",
      " 0   symbol         4 non-null      object \n",
      " 1   price          4 non-null      float64\n",
      " 2   chain          4 non-null      object \n",
      " 3   decimals       4 non-null      int64  \n",
      " 4   token_address  4 non-null      object \n",
      "dtypes: float64(1), int64(1), object(3)\n",
      "memory usage: 192.0+ bytes\n"
     ]
    }
   ],
   "source": [
    "dd = {'0xC02aaA39b223FE8D0A0e5C4F27eAD9083C756Cc2':'ethereum', # WETH on mainnet\n",
    "      '0x912CE59144191C1204E64559FE8253a0e49E6548':'arbitrum', # ARB on arbitrum\n",
    "      '0x4200000000000000000000000000000000000042':'optimism', # OP on optimism\n",
    "      '0xfc5a1a6eb076a2c7ad06ed22c90d7e710e35ad0a':'arbitrum', # GMX on arbitrum\n",
    "      }\n",
    "\n",
    "obj = DefiLlama() # create a DefiLlama instance\n",
    "df = obj.get_tokens_curr_prices(dd) \n",
    "df.info()"
   ]
  },
  {
   "cell_type": "code",
   "execution_count": 3,
   "metadata": {},
   "outputs": [
    {
     "data": {
      "text/html": [
       "<div>\n",
       "<style scoped>\n",
       "    .dataframe tbody tr th:only-of-type {\n",
       "        vertical-align: middle;\n",
       "    }\n",
       "\n",
       "    .dataframe tbody tr th {\n",
       "        vertical-align: top;\n",
       "    }\n",
       "\n",
       "    .dataframe thead th {\n",
       "        text-align: right;\n",
       "    }\n",
       "</style>\n",
       "<table border=\"1\" class=\"dataframe\">\n",
       "  <thead>\n",
       "    <tr style=\"text-align: right;\">\n",
       "      <th></th>\n",
       "      <th>timestamp</th>\n",
       "      <th>symbol</th>\n",
       "      <th>price</th>\n",
       "      <th>chain</th>\n",
       "      <th>timezone</th>\n",
       "    </tr>\n",
       "  </thead>\n",
       "  <tbody>\n",
       "    <tr>\n",
       "      <th>0</th>\n",
       "      <td>2023-07-25 12:27:53+00:00</td>\n",
       "      <td>OP</td>\n",
       "      <td>1.49</td>\n",
       "      <td>optimism</td>\n",
       "      <td>America/New_York</td>\n",
       "    </tr>\n",
       "    <tr>\n",
       "      <th>1</th>\n",
       "      <td>2023-07-25 12:27:53+00:00</td>\n",
       "      <td>ARB</td>\n",
       "      <td>1.17</td>\n",
       "      <td>arbitrum</td>\n",
       "      <td>America/Los_Angeles</td>\n",
       "    </tr>\n",
       "    <tr>\n",
       "      <th>2</th>\n",
       "      <td>2023-07-25 12:27:55+00:00</td>\n",
       "      <td>WETH</td>\n",
       "      <td>1853.41</td>\n",
       "      <td>ethereum</td>\n",
       "      <td>Europe/London</td>\n",
       "    </tr>\n",
       "    <tr>\n",
       "      <th>3</th>\n",
       "      <td>2023-07-25 12:27:56+00:00</td>\n",
       "      <td>GMX</td>\n",
       "      <td>53.37</td>\n",
       "      <td>arbitrum</td>\n",
       "      <td>Asia/Tokyo</td>\n",
       "    </tr>\n",
       "  </tbody>\n",
       "</table>\n",
       "</div>"
      ],
      "text/plain": [
       "                  timestamp symbol    price     chain             timezone\n",
       "0 2023-07-25 12:27:53+00:00     OP     1.49  optimism     America/New_York\n",
       "1 2023-07-25 12:27:53+00:00    ARB     1.17  arbitrum  America/Los_Angeles\n",
       "2 2023-07-25 12:27:55+00:00   WETH  1853.41  ethereum        Europe/London\n",
       "3 2023-07-25 12:27:56+00:00    GMX    53.37  arbitrum           Asia/Tokyo"
      ]
     },
     "execution_count": 3,
     "metadata": {},
     "output_type": "execute_result"
    }
   ],
   "source": [
    "# drop useless cols and \n",
    "# reset the index to integers so that the original datetime index becomes a col \n",
    "df = df.drop(columns = ['decimals', 'token_address']).reset_index()\n",
    "# add a new col of timezones\n",
    "df['timezone'] = ['America/New_York', 'America/Los_Angeles', 'Europe/London', 'Asia/Tokyo']\n",
    "df"
   ]
  },
  {
   "cell_type": "markdown",
   "metadata": {},
   "source": [
    "Say we want to convert the `timestamp` values, which are in UTC, to time zones in `timezone`. \n",
    "How should we do it? We may want to use `.tz_convert()` directly on the two columns, \n",
    "but it will throw an error."
   ]
  },
  {
   "cell_type": "code",
   "execution_count": 4,
   "metadata": {},
   "outputs": [],
   "source": [
    "# # Uncomment and run to see the error\n",
    "# ha['timestamp'].tz_convert(ha['timezone'])"
   ]
  },
  {
   "cell_type": "markdown",
   "metadata": {},
   "source": [
    "That's because `.tz_convert()` is not vectorized. But we can run it successfully \n",
    "on two values instead of two columns."
   ]
  },
  {
   "cell_type": "code",
   "execution_count": 5,
   "metadata": {},
   "outputs": [
    {
     "data": {
      "text/plain": [
       "Timestamp('2023-07-25 08:27:53-0400', tz='America/New_York')"
      ]
     },
     "execution_count": 5,
     "metadata": {},
     "output_type": "execute_result"
    }
   ],
   "source": [
    "df['timestamp'][0].tz_convert(df['timezone'][0])"
   ]
  },
  {
   "cell_type": "markdown",
   "metadata": {},
   "source": [
    "Now let's go one step further to remove the time zone info from the output via `tz_localize(None)`."
   ]
  },
  {
   "cell_type": "code",
   "execution_count": 6,
   "metadata": {},
   "outputs": [
    {
     "data": {
      "text/plain": [
       "Timestamp('2023-07-25 08:27:53')"
      ]
     },
     "execution_count": 6,
     "metadata": {},
     "output_type": "execute_result"
    }
   ],
   "source": [
    "df['timestamp'][0].tz_convert(df['timezone'][0]).tz_localize(None)"
   ]
  },
  {
   "cell_type": "markdown",
   "metadata": {},
   "source": [
    "Now that we did it for the first row. Let's do it for all rows through iteration via `itertuples()`."
   ]
  },
  {
   "cell_type": "code",
   "execution_count": 7,
   "metadata": {},
   "outputs": [
    {
     "data": {
      "text/plain": [
       "0   2023-07-25 08:27:53\n",
       "1   2023-07-25 05:27:53\n",
       "2   2023-07-25 13:27:55\n",
       "3   2023-07-25 21:27:56\n",
       "dtype: datetime64[ns]"
      ]
     },
     "execution_count": 7,
     "metadata": {},
     "output_type": "execute_result"
    }
   ],
   "source": [
    "pd.Series([row.timestamp.tz_convert(row.timezone).tz_localize(None) for row in df.itertuples()])"
   ]
  },
  {
   "cell_type": "markdown",
   "metadata": {},
   "source": [
    "But of course, we can also do it for all rows via `apply(func, axis=1)`."
   ]
  },
  {
   "cell_type": "code",
   "execution_count": 8,
   "metadata": {},
   "outputs": [
    {
     "data": {
      "text/plain": [
       "0   2023-07-25 08:27:53\n",
       "1   2023-07-25 05:27:53\n",
       "2   2023-07-25 13:27:55\n",
       "3   2023-07-25 21:27:56\n",
       "dtype: datetime64[ns]"
      ]
     },
     "execution_count": 8,
     "metadata": {},
     "output_type": "execute_result"
    }
   ],
   "source": [
    "df.apply(lambda row: row.timestamp.tz_convert(row.timezone).tz_localize(None), axis=1)"
   ]
  },
  {
   "cell_type": "markdown",
   "metadata": {},
   "source": [
    "Let's compare their speed."
   ]
  },
  {
   "cell_type": "code",
   "execution_count": 9,
   "metadata": {},
   "outputs": [
    {
     "data": {
      "text/plain": [
       "(4000, 5)"
      ]
     },
     "execution_count": 9,
     "metadata": {},
     "output_type": "execute_result"
    }
   ],
   "source": [
    "dat = pd.concat([df for _ in range(1000)])\n",
    "dat.shape"
   ]
  },
  {
   "cell_type": "code",
   "execution_count": 10,
   "metadata": {},
   "outputs": [
    {
     "name": "stdout",
     "output_type": "stream",
     "text": [
      "52 ms ± 891 µs per loop (mean ± std. dev. of 7 runs, 10 loops each)\n"
     ]
    }
   ],
   "source": [
    "%timeit pd.Series([row.timestamp.tz_convert(row.timezone).tz_localize(None) for row in dat.itertuples()])"
   ]
  },
  {
   "cell_type": "code",
   "execution_count": 11,
   "metadata": {},
   "outputs": [
    {
     "name": "stdout",
     "output_type": "stream",
     "text": [
      "96.5 ms ± 415 µs per loop (mean ± std. dev. of 7 runs, 10 loops each)\n"
     ]
    }
   ],
   "source": [
    "%timeit dat.apply(lambda row: row['timestamp'].tz_convert(row['timezone']).tz_localize(None), axis=1)"
   ]
  },
  {
   "cell_type": "markdown",
   "metadata": {},
   "source": [
    "We see even for a small dataset of 4000 rows, `apply(func, axis=1)` is 2 or 3 times slower than `itertuples()`.\n",
    "Now you might be asking, \"Can we have both the speed of `itertuples()` and the convenience of `apply()`?\" \n",
    "The answer is \"Yes.\" Someone did it for us. "
   ]
  },
  {
   "cell_type": "code",
   "execution_count": 12,
   "metadata": {},
   "outputs": [],
   "source": [
    "def faster_rowwise_apply(df, func):\n",
    "    # credit: https://stackoverflow.com/a/56213688\n",
    "    cols = list(df.columns)\n",
    "    data, index = [], []\n",
    "    for row in df.itertuples(index=True): # iteration via itertuples()\n",
    "        row_dict = {f:v for f, v in zip(cols, row[1:])}\n",
    "        data.append(func(row_dict))\n",
    "        index.append(row[0]) # collect index\n",
    "    return pd.Series(data, index=index)"
   ]
  },
  {
   "cell_type": "code",
   "execution_count": 13,
   "metadata": {},
   "outputs": [
    {
     "name": "stdout",
     "output_type": "stream",
     "text": [
      "60.3 ms ± 1.81 ms per loop (mean ± std. dev. of 7 runs, 10 loops each)\n"
     ]
    }
   ],
   "source": [
    "%timeit faster_rowwise_apply(dat, lambda row: row['timestamp'].tz_convert(row['timezone']).tz_localize(None))"
   ]
  },
  {
   "cell_type": "markdown",
   "metadata": {},
   "source": [
    "### Summary\n",
    "\n",
    "- Avoid `apply(func, axis=1)`. \n",
    "- If you can't avoid it, use iteration via `itertuples()` since it's much faster. \n",
    "- Use `faster_rowwise_apply()` defined above to get the speed of `itertuples()` \n",
    "  and the convenience of `apply()`.\n",
    "\n",
    "\n",
    "**Good Read:**\n",
    "\n",
    "- Get DeFi data easily using [defillama2](https://github.com/coindataschool/defillama2).\n",
    "- [Stop using iterrows](https://ryxcommar.com/2020/01/15/for-the-love-of-god-stop-using-iterrows/).\n",
    "- [Pete Cacioppi's faster df apply](https://stackoverflow.com/a/56213688)"
   ]
  }
 ],
 "metadata": {
  "kernelspec": {
   "display_name": "Python 3 (ipykernel)",
   "language": "python",
   "name": "python3"
  },
  "language_info": {
   "codemirror_mode": {
    "name": "ipython",
    "version": 3
   },
   "file_extension": ".py",
   "mimetype": "text/x-python",
   "name": "python",
   "nbconvert_exporter": "python",
   "pygments_lexer": "ipython3",
   "version": "3.10.8"
  }
 },
 "nbformat": 4,
 "nbformat_minor": 4
}
