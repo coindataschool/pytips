{
 "cells": [
  {
   "attachments": {},
   "cell_type": "markdown",
   "metadata": {},
   "source": [
    "## Pandas `rolling().apply()` \n",
    "\n",
    "All previous notebooks discussed `apply()` in the context of non-timeseries data. \n",
    "When working with timeseries data, we often want to calculate simple rolling \n",
    "statistics such as rolling sums (also called cumulative sum), averages, medians, \n",
    "and standard deviations. That's when we use `rolling().apply()`. Let me \n",
    "demonstrate with DEX volume data from DeFiLlama."
   ]
  },
  {
   "cell_type": "code",
   "execution_count": 1,
   "metadata": {},
   "outputs": [],
   "source": [
    "import pandas as pd\n",
    "import numpy as np\n",
    "from defillama2 import DefiLlama\n",
    "from typing import Union"
   ]
  },
  {
   "cell_type": "code",
   "execution_count": 2,
   "metadata": {},
   "outputs": [],
   "source": [
    "def equal(\n",
    "    a: Union[pd.DataFrame, pd.Series, np.ndarray], \n",
    "    b: Union[pd.DataFrame, pd.Series, np.ndarray]):\n",
    "    \"\"\" \n",
    "    Check if the corresponding values of two data frames or series or numpy arrays are the same.\n",
    "    \"\"\"\n",
    "    return (abs(a - b) > 1e-8).sum().sum() == 0 # 0 means same values"
   ]
  },
  {
   "cell_type": "code",
   "execution_count": 3,
   "metadata": {},
   "outputs": [
    {
     "data": {
      "text/plain": [
       "dict_keys(['volume_overall', 'volume_by_dex', 'volume_by_dex_by_chain_24h', 'daily_volume', 'daily_volume_by_dex'])"
      ]
     },
     "execution_count": 3,
     "metadata": {},
     "output_type": "execute_result"
    }
   ],
   "source": [
    "obj = DefiLlama() # create a DefiLlama instance\n",
    "dd = obj.get_dexes_volumes()\n",
    "dd.keys()"
   ]
  },
  {
   "cell_type": "code",
   "execution_count": 4,
   "metadata": {},
   "outputs": [
    {
     "data": {
      "text/html": [
       "<div>\n",
       "<style scoped>\n",
       "    .dataframe tbody tr th:only-of-type {\n",
       "        vertical-align: middle;\n",
       "    }\n",
       "\n",
       "    .dataframe tbody tr th {\n",
       "        vertical-align: top;\n",
       "    }\n",
       "\n",
       "    .dataframe thead th {\n",
       "        text-align: right;\n",
       "    }\n",
       "</style>\n",
       "<table border=\"1\" class=\"dataframe\">\n",
       "  <thead>\n",
       "    <tr style=\"text-align: right;\">\n",
       "      <th></th>\n",
       "      <th>volume</th>\n",
       "    </tr>\n",
       "    <tr>\n",
       "      <th>date</th>\n",
       "      <th></th>\n",
       "    </tr>\n",
       "  </thead>\n",
       "  <tbody>\n",
       "    <tr>\n",
       "      <th>2019-10-11 00:00:00+00:00</th>\n",
       "      <td>9.435028e+05</td>\n",
       "    </tr>\n",
       "    <tr>\n",
       "      <th>2019-10-12 00:00:00+00:00</th>\n",
       "      <td>6.372715e+05</td>\n",
       "    </tr>\n",
       "    <tr>\n",
       "      <th>2019-10-13 00:00:00+00:00</th>\n",
       "      <td>5.939759e+05</td>\n",
       "    </tr>\n",
       "    <tr>\n",
       "      <th>2019-10-14 00:00:00+00:00</th>\n",
       "      <td>1.160122e+06</td>\n",
       "    </tr>\n",
       "    <tr>\n",
       "      <th>2019-10-15 00:00:00+00:00</th>\n",
       "      <td>1.118992e+06</td>\n",
       "    </tr>\n",
       "  </tbody>\n",
       "</table>\n",
       "</div>"
      ],
      "text/plain": [
       "                                 volume\n",
       "date                                   \n",
       "2019-10-11 00:00:00+00:00  9.435028e+05\n",
       "2019-10-12 00:00:00+00:00  6.372715e+05\n",
       "2019-10-13 00:00:00+00:00  5.939759e+05\n",
       "2019-10-14 00:00:00+00:00  1.160122e+06\n",
       "2019-10-15 00:00:00+00:00  1.118992e+06"
      ]
     },
     "execution_count": 4,
     "metadata": {},
     "output_type": "execute_result"
    }
   ],
   "source": [
    "df = dd['daily_volume'] # focus on daily volumes\n",
    "df.head()"
   ]
  },
  {
   "cell_type": "markdown",
   "metadata": {},
   "source": [
    "### Calculate Rolling Means, Medians, Standard Deviations, and Cumulative Sum"
   ]
  },
  {
   "cell_type": "code",
   "execution_count": 5,
   "metadata": {},
   "outputs": [],
   "source": [
    "# 7-day rolling means\n",
    "rolling_means_7d = df['volume'].rolling(7).apply(np.mean)\n",
    "# 7-day rolling median\n",
    "rolling_meds_7d = df['volume'].rolling(7).apply(np.median)\n",
    "# 7-day rolling stds\n",
    "rolling_stds_7d = df['volume'].rolling(7).apply(np.std)\n",
    "# 1-day rolling sums\n",
    "rolling_sums_1d = df['volume'].rolling(1).apply(np.sum)"
   ]
  },
  {
   "cell_type": "markdown",
   "metadata": {},
   "source": [
    "For these simple rolling statistics, there are designated functions that perform better than the `apply()` versions above."
   ]
  },
  {
   "cell_type": "code",
   "execution_count": 6,
   "metadata": {},
   "outputs": [],
   "source": [
    "# 7-day rolling means\n",
    "rolling_means_7d_v2 = df['volume'].rolling(7).mean()\n",
    "# 7-day rolling median\n",
    "rolling_meds_7d_v2 = df['volume'].rolling(7).median()\n",
    "# 7-day rolling stds\n",
    "rolling_stds_7d_v2 = df['volume'].rolling(7).std()\n",
    "# 1-day rolling sums\n",
    "rolling_sums_1d_v2 = df['volume'].cumsum()"
   ]
  },
  {
   "cell_type": "code",
   "execution_count": 7,
   "metadata": {},
   "outputs": [
    {
     "ename": "AssertionError",
     "evalue": "",
     "output_type": "error",
     "traceback": [
      "\u001b[0;31m---------------------------------------------------------------------------\u001b[0m",
      "\u001b[0;31mAssertionError\u001b[0m                            Traceback (most recent call last)",
      "\u001b[1;32m/Users/gmlang/CoinDataSchool/pytips/pandas/apply/05-pandas-rolling-apply.ipynb Cell 10\u001b[0m in \u001b[0;36m1\n\u001b[0;32m----> <a href='vscode-notebook-cell:/Users/gmlang/CoinDataSchool/pytips/pandas/apply/05-pandas-rolling-apply.ipynb#X35sZmlsZQ%3D%3D?line=0'>1</a>\u001b[0m \u001b[39massert\u001b[39;00m(equal(rolling_means_7d, rolling_means_7d_v2))\n\u001b[1;32m      <a href='vscode-notebook-cell:/Users/gmlang/CoinDataSchool/pytips/pandas/apply/05-pandas-rolling-apply.ipynb#X35sZmlsZQ%3D%3D?line=1'>2</a>\u001b[0m \u001b[39massert\u001b[39;00m(equal(rolling_meds_7d, rolling_meds_7d_v2))\n\u001b[1;32m      <a href='vscode-notebook-cell:/Users/gmlang/CoinDataSchool/pytips/pandas/apply/05-pandas-rolling-apply.ipynb#X35sZmlsZQ%3D%3D?line=2'>3</a>\u001b[0m \u001b[39massert\u001b[39;00m(equal(rolling_stds_7d, rolling_stds_7d_v2))\n",
      "\u001b[0;31mAssertionError\u001b[0m: "
     ]
    }
   ],
   "source": [
    "assert(equal(rolling_means_7d, rolling_means_7d_v2))\n",
    "assert(equal(rolling_meds_7d, rolling_meds_7d_v2))\n",
    "assert(equal(rolling_stds_7d, rolling_stds_7d_v2))\n",
    "assert(equal(rolling_sums_1d, rolling_sums_1d_v2))"
   ]
  },
  {
   "cell_type": "markdown",
   "metadata": {},
   "source": [
    "The above code will also work on a data frame of all numerical columns. \n",
    "Let me show you. First, let me prepare a data frame of all three versions of \n",
    "Uniswap's daily volumes since 01 Jan 2023."
   ]
  },
  {
   "cell_type": "code",
   "execution_count": null,
   "metadata": {},
   "outputs": [
    {
     "data": {
      "text/html": [
       "<div>\n",
       "<style scoped>\n",
       "    .dataframe tbody tr th:only-of-type {\n",
       "        vertical-align: middle;\n",
       "    }\n",
       "\n",
       "    .dataframe tbody tr th {\n",
       "        vertical-align: top;\n",
       "    }\n",
       "\n",
       "    .dataframe thead th {\n",
       "        text-align: right;\n",
       "    }\n",
       "</style>\n",
       "<table border=\"1\" class=\"dataframe\">\n",
       "  <thead>\n",
       "    <tr style=\"text-align: right;\">\n",
       "      <th></th>\n",
       "      <th>Uniswap V1</th>\n",
       "      <th>Uniswap V2</th>\n",
       "      <th>Uniswap V3</th>\n",
       "    </tr>\n",
       "    <tr>\n",
       "      <th>date</th>\n",
       "      <th></th>\n",
       "      <th></th>\n",
       "      <th></th>\n",
       "    </tr>\n",
       "  </thead>\n",
       "  <tbody>\n",
       "    <tr>\n",
       "      <th>2023-01-01 00:00:00+00:00</th>\n",
       "      <td>63368.031010</td>\n",
       "      <td>3.175149e+07</td>\n",
       "      <td>3.004782e+08</td>\n",
       "    </tr>\n",
       "    <tr>\n",
       "      <th>2023-01-02 00:00:00+00:00</th>\n",
       "      <td>20800.457170</td>\n",
       "      <td>3.790035e+07</td>\n",
       "      <td>4.418249e+08</td>\n",
       "    </tr>\n",
       "    <tr>\n",
       "      <th>2023-01-03 00:00:00+00:00</th>\n",
       "      <td>8090.465679</td>\n",
       "      <td>3.136464e+07</td>\n",
       "      <td>3.224987e+08</td>\n",
       "    </tr>\n",
       "    <tr>\n",
       "      <th>2023-01-04 00:00:00+00:00</th>\n",
       "      <td>45177.833705</td>\n",
       "      <td>4.748669e+07</td>\n",
       "      <td>8.069168e+08</td>\n",
       "    </tr>\n",
       "    <tr>\n",
       "      <th>2023-01-05 00:00:00+00:00</th>\n",
       "      <td>72497.322509</td>\n",
       "      <td>8.884805e+07</td>\n",
       "      <td>4.424645e+08</td>\n",
       "    </tr>\n",
       "  </tbody>\n",
       "</table>\n",
       "</div>"
      ],
      "text/plain": [
       "                             Uniswap V1    Uniswap V2    Uniswap V3\n",
       "date                                                               \n",
       "2023-01-01 00:00:00+00:00  63368.031010  3.175149e+07  3.004782e+08\n",
       "2023-01-02 00:00:00+00:00  20800.457170  3.790035e+07  4.418249e+08\n",
       "2023-01-03 00:00:00+00:00   8090.465679  3.136464e+07  3.224987e+08\n",
       "2023-01-04 00:00:00+00:00  45177.833705  4.748669e+07  8.069168e+08\n",
       "2023-01-05 00:00:00+00:00  72497.322509  8.884805e+07  4.424645e+08"
      ]
     },
     "execution_count": 35,
     "metadata": {},
     "output_type": "execute_result"
    }
   ],
   "source": [
    "df = dd['daily_volume_by_dex']\n",
    "dexes = ['Uniswap V1', 'Uniswap V2', 'Uniswap V3']\n",
    "subdf = df.loc['2023-01-01':, dexes]\n",
    "subdf.head()"
   ]
  },
  {
   "cell_type": "markdown",
   "metadata": {},
   "source": [
    "I can then copy and paste the above `rolling().apply()` code to apply to this new frame."
   ]
  },
  {
   "cell_type": "code",
   "execution_count": null,
   "metadata": {},
   "outputs": [],
   "source": [
    "# 7-day rolling means\n",
    "rolling_means_7d = subdf.rolling(7).apply(np.mean)\n",
    "# 7-day rolling median\n",
    "rolling_meds_7d = subdf.rolling(7).apply(np.median)\n",
    "# 7-day rolling stds\n",
    "rolling_stds_7d = subdf.rolling(7).apply(np.std)\n",
    "# 1-day rolling sums\n",
    "rolling_sums_1d = subdf.rolling(1).apply(np.sum)"
   ]
  },
  {
   "cell_type": "markdown",
   "metadata": {},
   "source": [
    "And of course, the better versions also work!"
   ]
  },
  {
   "cell_type": "code",
   "execution_count": null,
   "metadata": {},
   "outputs": [],
   "source": [
    "# 7-day rolling means\n",
    "rolling_means_7d_v2 = subdf.rolling(7).mean()\n",
    "# 7-day rolling median\n",
    "rolling_meds_7d_v2 = subdf.rolling(7).median()\n",
    "# 7-day rolling stds\n",
    "rolling_stds_7d_v2 = subdf.rolling(7).std()\n",
    "# 1-day rolling sums\n",
    "rolling_sums_1d_v2 = subdf.rolling(1).sum()"
   ]
  },
  {
   "cell_type": "code",
   "execution_count": null,
   "metadata": {},
   "outputs": [],
   "source": [
    "assert(equal(rolling_means_7d, rolling_means_7d_v2))\n",
    "assert(equal(rolling_meds_7d, rolling_meds_7d_v2))\n",
    "assert(equal(rolling_stds_7d, rolling_stds_7d_v2))\n",
    "assert(equal(rolling_sums_1d, rolling_sums_1d_v2))"
   ]
  },
  {
   "cell_type": "markdown",
   "metadata": {},
   "source": [
    "And there's a more versatile function called `agg()` that allows us to calculate \n",
    "different and/or multiple rolling statistics for different columns. "
   ]
  },
  {
   "cell_type": "code",
   "execution_count": null,
   "metadata": {},
   "outputs": [
    {
     "data": {
      "text/html": [
       "<div>\n",
       "<style scoped>\n",
       "    .dataframe tbody tr th:only-of-type {\n",
       "        vertical-align: middle;\n",
       "    }\n",
       "\n",
       "    .dataframe tbody tr th {\n",
       "        vertical-align: top;\n",
       "    }\n",
       "\n",
       "    .dataframe thead tr th {\n",
       "        text-align: left;\n",
       "    }\n",
       "\n",
       "    .dataframe thead tr:last-of-type th {\n",
       "        text-align: right;\n",
       "    }\n",
       "</style>\n",
       "<table border=\"1\" class=\"dataframe\">\n",
       "  <thead>\n",
       "    <tr>\n",
       "      <th></th>\n",
       "      <th colspan=\"2\" halign=\"left\">Uniswap V1</th>\n",
       "      <th colspan=\"2\" halign=\"left\">Uniswap V2</th>\n",
       "      <th>Uniswap V3</th>\n",
       "    </tr>\n",
       "    <tr>\n",
       "      <th></th>\n",
       "      <th>median</th>\n",
       "      <th>mean</th>\n",
       "      <th>mean</th>\n",
       "      <th>std</th>\n",
       "      <th>sum</th>\n",
       "    </tr>\n",
       "    <tr>\n",
       "      <th>date</th>\n",
       "      <th></th>\n",
       "      <th></th>\n",
       "      <th></th>\n",
       "      <th></th>\n",
       "      <th></th>\n",
       "    </tr>\n",
       "  </thead>\n",
       "  <tbody>\n",
       "    <tr>\n",
       "      <th>2023-01-01 00:00:00+00:00</th>\n",
       "      <td>NaN</td>\n",
       "      <td>NaN</td>\n",
       "      <td>NaN</td>\n",
       "      <td>NaN</td>\n",
       "      <td>NaN</td>\n",
       "    </tr>\n",
       "    <tr>\n",
       "      <th>2023-01-02 00:00:00+00:00</th>\n",
       "      <td>NaN</td>\n",
       "      <td>NaN</td>\n",
       "      <td>NaN</td>\n",
       "      <td>NaN</td>\n",
       "      <td>NaN</td>\n",
       "    </tr>\n",
       "    <tr>\n",
       "      <th>2023-01-03 00:00:00+00:00</th>\n",
       "      <td>NaN</td>\n",
       "      <td>NaN</td>\n",
       "      <td>NaN</td>\n",
       "      <td>NaN</td>\n",
       "      <td>NaN</td>\n",
       "    </tr>\n",
       "    <tr>\n",
       "      <th>2023-01-04 00:00:00+00:00</th>\n",
       "      <td>NaN</td>\n",
       "      <td>NaN</td>\n",
       "      <td>NaN</td>\n",
       "      <td>NaN</td>\n",
       "      <td>NaN</td>\n",
       "    </tr>\n",
       "    <tr>\n",
       "      <th>2023-01-05 00:00:00+00:00</th>\n",
       "      <td>NaN</td>\n",
       "      <td>NaN</td>\n",
       "      <td>NaN</td>\n",
       "      <td>NaN</td>\n",
       "      <td>NaN</td>\n",
       "    </tr>\n",
       "    <tr>\n",
       "      <th>...</th>\n",
       "      <td>...</td>\n",
       "      <td>...</td>\n",
       "      <td>...</td>\n",
       "      <td>...</td>\n",
       "      <td>...</td>\n",
       "    </tr>\n",
       "    <tr>\n",
       "      <th>2023-07-22 00:00:00+00:00</th>\n",
       "      <td>34806.931380</td>\n",
       "      <td>35466.287339</td>\n",
       "      <td>1.292651e+08</td>\n",
       "      <td>2.458436e+07</td>\n",
       "      <td>4.810233e+09</td>\n",
       "    </tr>\n",
       "    <tr>\n",
       "      <th>2023-07-23 00:00:00+00:00</th>\n",
       "      <td>30228.619734</td>\n",
       "      <td>29588.990736</td>\n",
       "      <td>1.331265e+08</td>\n",
       "      <td>2.429102e+07</td>\n",
       "      <td>4.727569e+09</td>\n",
       "    </tr>\n",
       "    <tr>\n",
       "      <th>2023-07-24 00:00:00+00:00</th>\n",
       "      <td>30228.619734</td>\n",
       "      <td>29098.222843</td>\n",
       "      <td>1.441589e+08</td>\n",
       "      <td>3.929839e+07</td>\n",
       "      <td>4.456881e+09</td>\n",
       "    </tr>\n",
       "    <tr>\n",
       "      <th>2023-07-25 00:00:00+00:00</th>\n",
       "      <td>30228.619734</td>\n",
       "      <td>29723.699323</td>\n",
       "      <td>1.500543e+08</td>\n",
       "      <td>3.175472e+07</td>\n",
       "      <td>4.075148e+09</td>\n",
       "    </tr>\n",
       "    <tr>\n",
       "      <th>2023-07-26 00:00:00+00:00</th>\n",
       "      <td>30228.619734</td>\n",
       "      <td>29391.135849</td>\n",
       "      <td>1.397862e+08</td>\n",
       "      <td>3.645313e+07</td>\n",
       "      <td>4.102507e+09</td>\n",
       "    </tr>\n",
       "  </tbody>\n",
       "</table>\n",
       "<p>207 rows × 5 columns</p>\n",
       "</div>"
      ],
      "text/plain": [
       "                             Uniswap V1                  Uniswap V2  \\\n",
       "                                 median          mean          mean   \n",
       "date                                                                  \n",
       "2023-01-01 00:00:00+00:00           NaN           NaN           NaN   \n",
       "2023-01-02 00:00:00+00:00           NaN           NaN           NaN   \n",
       "2023-01-03 00:00:00+00:00           NaN           NaN           NaN   \n",
       "2023-01-04 00:00:00+00:00           NaN           NaN           NaN   \n",
       "2023-01-05 00:00:00+00:00           NaN           NaN           NaN   \n",
       "...                                 ...           ...           ...   \n",
       "2023-07-22 00:00:00+00:00  34806.931380  35466.287339  1.292651e+08   \n",
       "2023-07-23 00:00:00+00:00  30228.619734  29588.990736  1.331265e+08   \n",
       "2023-07-24 00:00:00+00:00  30228.619734  29098.222843  1.441589e+08   \n",
       "2023-07-25 00:00:00+00:00  30228.619734  29723.699323  1.500543e+08   \n",
       "2023-07-26 00:00:00+00:00  30228.619734  29391.135849  1.397862e+08   \n",
       "\n",
       "                                           Uniswap V3  \n",
       "                                    std           sum  \n",
       "date                                                   \n",
       "2023-01-01 00:00:00+00:00           NaN           NaN  \n",
       "2023-01-02 00:00:00+00:00           NaN           NaN  \n",
       "2023-01-03 00:00:00+00:00           NaN           NaN  \n",
       "2023-01-04 00:00:00+00:00           NaN           NaN  \n",
       "2023-01-05 00:00:00+00:00           NaN           NaN  \n",
       "...                                 ...           ...  \n",
       "2023-07-22 00:00:00+00:00  2.458436e+07  4.810233e+09  \n",
       "2023-07-23 00:00:00+00:00  2.429102e+07  4.727569e+09  \n",
       "2023-07-24 00:00:00+00:00  3.929839e+07  4.456881e+09  \n",
       "2023-07-25 00:00:00+00:00  3.175472e+07  4.075148e+09  \n",
       "2023-07-26 00:00:00+00:00  3.645313e+07  4.102507e+09  \n",
       "\n",
       "[207 rows x 5 columns]"
      ]
     },
     "execution_count": 47,
     "metadata": {},
     "output_type": "execute_result"
    }
   ],
   "source": [
    "subdf.rolling(7, min_periods=7).agg(\n",
    "    {'Uniswap V1': ['median', 'mean'], \n",
    "     'Uniswap V2': ['mean', 'std'],\n",
    "     'Uniswap V3': ['sum'],\n",
    "})"
   ]
  },
  {
   "cell_type": "markdown",
   "metadata": {},
   "source": [
    "Beyond simple rolling statistics, there are no readily available functions in \n",
    "Pandas that we can use to compute complex statistics. For example, say we want to \n",
    "calculate the 30-day rolling auto-correlations of the daily volumes for each \n",
    "Uniswap version. We can't simply use `subdf.rolling(30).autocorr()`. Instead, \n",
    "we can use `apply(lambda ser: ser.autocorr())`."
   ]
  },
  {
   "cell_type": "code",
   "execution_count": null,
   "metadata": {},
   "outputs": [],
   "source": [
    "# # try it. It will throw an error\n",
    "# subdf.rolling(30).autocorr()"
   ]
  },
  {
   "cell_type": "code",
   "execution_count": null,
   "metadata": {},
   "outputs": [
    {
     "data": {
      "text/html": [
       "<div>\n",
       "<style scoped>\n",
       "    .dataframe tbody tr th:only-of-type {\n",
       "        vertical-align: middle;\n",
       "    }\n",
       "\n",
       "    .dataframe tbody tr th {\n",
       "        vertical-align: top;\n",
       "    }\n",
       "\n",
       "    .dataframe thead th {\n",
       "        text-align: right;\n",
       "    }\n",
       "</style>\n",
       "<table border=\"1\" class=\"dataframe\">\n",
       "  <thead>\n",
       "    <tr style=\"text-align: right;\">\n",
       "      <th></th>\n",
       "      <th>Uniswap V1</th>\n",
       "      <th>Uniswap V2</th>\n",
       "      <th>Uniswap V3</th>\n",
       "    </tr>\n",
       "    <tr>\n",
       "      <th>date</th>\n",
       "      <th></th>\n",
       "      <th></th>\n",
       "      <th></th>\n",
       "    </tr>\n",
       "  </thead>\n",
       "  <tbody>\n",
       "    <tr>\n",
       "      <th>2023-01-01 00:00:00+00:00</th>\n",
       "      <td>NaN</td>\n",
       "      <td>NaN</td>\n",
       "      <td>NaN</td>\n",
       "    </tr>\n",
       "    <tr>\n",
       "      <th>2023-01-02 00:00:00+00:00</th>\n",
       "      <td>NaN</td>\n",
       "      <td>NaN</td>\n",
       "      <td>NaN</td>\n",
       "    </tr>\n",
       "    <tr>\n",
       "      <th>2023-01-03 00:00:00+00:00</th>\n",
       "      <td>NaN</td>\n",
       "      <td>NaN</td>\n",
       "      <td>NaN</td>\n",
       "    </tr>\n",
       "    <tr>\n",
       "      <th>2023-01-04 00:00:00+00:00</th>\n",
       "      <td>NaN</td>\n",
       "      <td>NaN</td>\n",
       "      <td>NaN</td>\n",
       "    </tr>\n",
       "    <tr>\n",
       "      <th>2023-01-05 00:00:00+00:00</th>\n",
       "      <td>NaN</td>\n",
       "      <td>NaN</td>\n",
       "      <td>NaN</td>\n",
       "    </tr>\n",
       "    <tr>\n",
       "      <th>...</th>\n",
       "      <td>...</td>\n",
       "      <td>...</td>\n",
       "      <td>...</td>\n",
       "    </tr>\n",
       "    <tr>\n",
       "      <th>2023-07-22 00:00:00+00:00</th>\n",
       "      <td>-0.068213</td>\n",
       "      <td>0.373489</td>\n",
       "      <td>0.047972</td>\n",
       "    </tr>\n",
       "    <tr>\n",
       "      <th>2023-07-23 00:00:00+00:00</th>\n",
       "      <td>-0.073116</td>\n",
       "      <td>0.396239</td>\n",
       "      <td>0.118452</td>\n",
       "    </tr>\n",
       "    <tr>\n",
       "      <th>2023-07-24 00:00:00+00:00</th>\n",
       "      <td>-0.082624</td>\n",
       "      <td>0.444259</td>\n",
       "      <td>0.128597</td>\n",
       "    </tr>\n",
       "    <tr>\n",
       "      <th>2023-07-25 00:00:00+00:00</th>\n",
       "      <td>-0.086377</td>\n",
       "      <td>0.391377</td>\n",
       "      <td>0.139397</td>\n",
       "    </tr>\n",
       "    <tr>\n",
       "      <th>2023-07-26 00:00:00+00:00</th>\n",
       "      <td>-0.065568</td>\n",
       "      <td>0.355146</td>\n",
       "      <td>0.122298</td>\n",
       "    </tr>\n",
       "  </tbody>\n",
       "</table>\n",
       "<p>207 rows × 3 columns</p>\n",
       "</div>"
      ],
      "text/plain": [
       "                           Uniswap V1  Uniswap V2  Uniswap V3\n",
       "date                                                         \n",
       "2023-01-01 00:00:00+00:00         NaN         NaN         NaN\n",
       "2023-01-02 00:00:00+00:00         NaN         NaN         NaN\n",
       "2023-01-03 00:00:00+00:00         NaN         NaN         NaN\n",
       "2023-01-04 00:00:00+00:00         NaN         NaN         NaN\n",
       "2023-01-05 00:00:00+00:00         NaN         NaN         NaN\n",
       "...                               ...         ...         ...\n",
       "2023-07-22 00:00:00+00:00   -0.068213    0.373489    0.047972\n",
       "2023-07-23 00:00:00+00:00   -0.073116    0.396239    0.118452\n",
       "2023-07-24 00:00:00+00:00   -0.082624    0.444259    0.128597\n",
       "2023-07-25 00:00:00+00:00   -0.086377    0.391377    0.139397\n",
       "2023-07-26 00:00:00+00:00   -0.065568    0.355146    0.122298\n",
       "\n",
       "[207 rows x 3 columns]"
      ]
     },
     "execution_count": 79,
     "metadata": {},
     "output_type": "execute_result"
    }
   ],
   "source": [
    "subdf.rolling(30).apply(lambda ser: ser.autocorr())"
   ]
  },
  {
   "cell_type": "markdown",
   "metadata": {},
   "source": [
    "### Summary\n",
    "\n",
    "- `rolling().apply(func)` is very handy when calculating rolling statistics \n",
    "  on numerical columns of a data frame (or a numerical series). \n",
    "- when calculating simple rolling statistics such as sum, mean, median, and \n",
    "  standard deviation, drop `apply()` and call the statistical functions directly.\n",
    "- `rolling().agg()` allows calculation of different and/or multiple simple \n",
    "  rolling statistics for different columns. \n",
    "\n",
    "There are two drawbacks of `rolling().apply()`:\n",
    "1. it is slow and memory-inefficient.\n",
    "2. it cannot apply a function that takes two columns (series, ndarrays) as input. \n",
    "   For example, in this [dashboard](https://coindataschool-husdlci-main-pfjljd.streamlit.app/), \n",
    "   I calculate and visualize 30-day rolling correlations between BTC price and \n",
    "   Hayes USD liquidity condition index. This can't be done by `rolling().apply()`.\n",
    "\n",
    "I'll dive deep into these two drawbacks and provide solutions in the upcoming \n",
    "notebooks. Star and watch the repo to stay informed.\n",
    "\n",
    "### Good Read\n",
    "\n",
    "- [All my notebooks on pandas `apply()`](https://coindataschool.substack.com/p/pandas-apply)"
   ]
  },
  {
   "cell_type": "markdown",
   "metadata": {},
   "source": []
  }
 ],
 "metadata": {
  "kernelspec": {
   "display_name": "Python 3 (ipykernel)",
   "language": "python",
   "name": "python3"
  },
  "language_info": {
   "codemirror_mode": {
    "name": "ipython",
    "version": 3
   },
   "file_extension": ".py",
   "mimetype": "text/x-python",
   "name": "python",
   "nbconvert_exporter": "python",
   "pygments_lexer": "ipython3",
   "version": "3.10.8"
  }
 },
 "nbformat": 4,
 "nbformat_minor": 4
}
