{
 "cells": [
  {
   "cell_type": "markdown",
   "id": "30514386",
   "metadata": {},
   "source": [
    "## Use Vectorization instead of Pandas `rolling().apply()` when Possible\n",
    "### A case study: How to calculate rolling ZScores and Correlations? \n",
    "\n",
    "At the end of the last [notebook](https://github.com/coindataschool/pytips/blob/main/pandas/apply/05-pandas-rolling-apply.ipynb), \n",
    "I mentioned `rolling().apply()` has two major drawbacks with the first one being \n",
    "that it's slow. In this notebook, I will calculate rolling ZScores and \n",
    "Correlations via `rolling().apply()` and vectorization respectively and compare \n",
    "their speed. You will see vectorization is much faster. "
   ]
  },
  {
   "cell_type": "code",
   "execution_count": 1,
   "id": "899640e3-a59a-4325-856a-0f41c17d754f",
   "metadata": {},
   "outputs": [],
   "source": [
    "import numpy as np\n",
    "import pandas as pd\n",
    "import datetime as dt\n",
    "from defillama2 import DefiLlama\n",
    "from typing import Union\n",
    "\n",
    "pd.set_option('display.max_columns', 15)\n",
    "pd.set_option('display.max_rows', 50)\n",
    "pd.options.display.float_format = '{:,.4f}'.format"
   ]
  },
  {
   "cell_type": "code",
   "execution_count": 2,
   "id": "4cb0d15e",
   "metadata": {},
   "outputs": [],
   "source": [
    "def equal(\n",
    "    a: Union[pd.DataFrame, pd.Series, np.ndarray], \n",
    "    b: Union[pd.DataFrame, pd.Series, np.ndarray],\n",
    "    threshold=1e-8):\n",
    "    \"\"\" \n",
    "    Check if the corresponding values of two data frames or series or numpy arrays are the same.\n",
    "    \"\"\"\n",
    "    return (abs(a - b) > threshold).sum().sum() == 0 # 0 means same values"
   ]
  },
  {
   "cell_type": "markdown",
   "id": "8131cc9c-183b-4dde-9daf-02cd875f63a2",
   "metadata": {},
   "source": [
    "### Prep Data"
   ]
  },
  {
   "cell_type": "code",
   "execution_count": 3,
   "id": "ce45889a",
   "metadata": {},
   "outputs": [
    {
     "data": {
      "text/html": [
       "<div>\n",
       "<style scoped>\n",
       "    .dataframe tbody tr th:only-of-type {\n",
       "        vertical-align: middle;\n",
       "    }\n",
       "\n",
       "    .dataframe tbody tr th {\n",
       "        vertical-align: top;\n",
       "    }\n",
       "\n",
       "    .dataframe thead th {\n",
       "        text-align: right;\n",
       "    }\n",
       "</style>\n",
       "<table border=\"1\" class=\"dataframe\">\n",
       "  <thead>\n",
       "    <tr style=\"text-align: right;\">\n",
       "      <th></th>\n",
       "      <th>ARB</th>\n",
       "      <th>GMX</th>\n",
       "      <th>WETH</th>\n",
       "    </tr>\n",
       "    <tr>\n",
       "      <th>date</th>\n",
       "      <th></th>\n",
       "      <th></th>\n",
       "      <th></th>\n",
       "    </tr>\n",
       "  </thead>\n",
       "  <tbody>\n",
       "    <tr>\n",
       "      <th>2023-03-24</th>\n",
       "      <td>-0.0459</td>\n",
       "      <td>-0.0659</td>\n",
       "      <td>-0.0338</td>\n",
       "    </tr>\n",
       "    <tr>\n",
       "      <th>2023-03-25</th>\n",
       "      <td>-0.0380</td>\n",
       "      <td>-0.0109</td>\n",
       "      <td>-0.0042</td>\n",
       "    </tr>\n",
       "    <tr>\n",
       "      <th>2023-03-26</th>\n",
       "      <td>0.0407</td>\n",
       "      <td>-0.0069</td>\n",
       "      <td>0.0129</td>\n",
       "    </tr>\n",
       "    <tr>\n",
       "      <th>2023-03-27</th>\n",
       "      <td>-0.0859</td>\n",
       "      <td>0.0392</td>\n",
       "      <td>-0.0330</td>\n",
       "    </tr>\n",
       "    <tr>\n",
       "      <th>2023-03-28</th>\n",
       "      <td>0.0403</td>\n",
       "      <td>0.0815</td>\n",
       "      <td>0.0337</td>\n",
       "    </tr>\n",
       "  </tbody>\n",
       "</table>\n",
       "</div>"
      ],
      "text/plain": [
       "               ARB     GMX    WETH\n",
       "date                              \n",
       "2023-03-24 -0.0459 -0.0659 -0.0338\n",
       "2023-03-25 -0.0380 -0.0109 -0.0042\n",
       "2023-03-26  0.0407 -0.0069  0.0129\n",
       "2023-03-27 -0.0859  0.0392 -0.0330\n",
       "2023-03-28  0.0403  0.0815  0.0337"
      ]
     },
     "execution_count": 3,
     "metadata": {},
     "output_type": "execute_result"
    }
   ],
   "source": [
    "dd = {'0xfc5a1a6eb076a2c7ad06ed22c90d7e710e35ad0a':'arbitrum', # GMX on arbitrum\n",
    "      '0x912CE59144191C1204E64559FE8253a0e49E6548':'arbitrum', # ARB on arbitrum\n",
    "      '0x82aF49447D8a07e3bd95BD0d56f35241523fBab1':'arbitrum', # ETH on arbitrum      \n",
    "      }\n",
    "\n",
    "obj = DefiLlama() # create a DefiLlama instance\n",
    "\n",
    "# get historical daily close prices \n",
    "df = obj.get_daily_open_close(dd, start='2023-03-23', end='2023-07-27', kind='close')\n",
    "\n",
    "# calc daily returns\n",
    "daily_rets = df.pct_change().dropna()\n",
    "daily_rets.head()"
   ]
  },
  {
   "cell_type": "code",
   "execution_count": 4,
   "id": "5820024d-fc19-4a3f-887c-c986c225d1b0",
   "metadata": {},
   "outputs": [],
   "source": [
    "# user input \n",
    "ndays = 7\n",
    "mvar = 'WETH'"
   ]
  },
  {
   "cell_type": "markdown",
   "id": "b1a9b18b-c9ac-4bb0-8ab5-f21bdf5f9d58",
   "metadata": {},
   "source": [
    "### Calculate Rolling Z-Scores"
   ]
  },
  {
   "cell_type": "code",
   "execution_count": 5,
   "id": "456808ba",
   "metadata": {},
   "outputs": [
    {
     "name": "stdout",
     "output_type": "stream",
     "text": [
      "97.6 ms ± 4.93 ms per loop (mean ± std. dev. of 7 runs, 10 loops each)\n"
     ]
    }
   ],
   "source": [
    "# using rolling().apply()\n",
    "def calc_zscore(xs):\n",
    "    return (xs[-1] - xs.mean()) / xs.std(ddof=1) # x[-1] is the current rolling data point, dropping [-1] will throw error\n",
    "\n",
    "%timeit df_zscores_v1 = daily_rets.rolling(ndays).apply(calc_zscore)"
   ]
  },
  {
   "cell_type": "code",
   "execution_count": 6,
   "id": "a588eb38",
   "metadata": {},
   "outputs": [
    {
     "name": "stdout",
     "output_type": "stream",
     "text": [
      "1.36 ms ± 68.1 µs per loop (mean ± std. dev. of 7 runs, 1,000 loops each)\n"
     ]
    }
   ],
   "source": [
    "# using rolling() + vectorization\n",
    "%timeit df_zscores_v2 = (daily_rets - daily_rets.rolling(ndays).mean()) / daily_rets.rolling(ndays).std(ddof=1)"
   ]
  },
  {
   "cell_type": "markdown",
   "id": "40bdf7b5-5e76-43e2-b9a6-d22e8fb72b7c",
   "metadata": {},
   "source": [
    "The vectorization approach is ~100x faster than `rolling().apply()`!"
   ]
  },
  {
   "cell_type": "markdown",
   "id": "decad7b3-3953-471c-b4c4-60182ee36e4c",
   "metadata": {},
   "source": [
    "## Calculate Rolling Correlations\n",
    "\n",
    "Let's now calculate the rolling correlations between \n",
    "\n",
    "    - the ARB return series and ETH return series, and\n",
    "    - the GMX return series and ETH return series."
   ]
  },
  {
   "cell_type": "code",
   "execution_count": 7,
   "id": "cd7bf5f5-9fa1-47d2-aa17-321c8b8aceba",
   "metadata": {},
   "outputs": [
    {
     "name": "stdout",
     "output_type": "stream",
     "text": [
      "252 ms ± 26.2 ms per loop (mean ± std. dev. of 7 runs, 1 loop each)\n"
     ]
    }
   ],
   "source": [
    "%timeit pearson_V1 = daily_rets.rolling(ndays).apply(lambda ser: ser.corr(daily_rets[mvar]))"
   ]
  },
  {
   "cell_type": "code",
   "execution_count": 8,
   "id": "219d2b4b-6340-4da2-b4bb-59c623382daf",
   "metadata": {},
   "outputs": [
    {
     "name": "stdout",
     "output_type": "stream",
     "text": [
      "2.61 ms ± 33.8 µs per loop (mean ± std. dev. of 7 runs, 100 loops each)\n"
     ]
    }
   ],
   "source": [
    "%timeit pearson_v2 = daily_rets.rolling(ndays).corr(daily_rets[mvar])"
   ]
  },
  {
   "cell_type": "markdown",
   "id": "f3bc95b8-a3c9-4173-9fb5-0de60e65853a",
   "metadata": {},
   "source": [
    "Calling `.corr()` directly is 100x faster than calling it inside of `apply()` because the former uses vectorization!"
   ]
  },
  {
   "cell_type": "markdown",
   "id": "049a86ed-0f8f-4b87-a975-ab6840bec73f",
   "metadata": {},
   "source": [
    "### Summary\n",
    "\n",
    "- Vectorization can be 100x faster than `rolling().apply(func)`. \n",
    "- Vectorization exists for calculating rolling zscores or correlations. It may \n",
    "  also exist for other rolling statistics beyond the simple ones. Search for \n",
    "  them before blindly using `rolling().apply()`.\n",
    "\n",
    "In the next notebook, I'll provide solutions to the second drawback of \n",
    "`rolling().apply()`, namely, it can't take multiple columns as input. Make sure\n",
    "you star and watch this [repo](https://github.com/coindataschool/pytips/tree/main/pandas/apply) \n",
    "to stay informed.\n",
    "\n",
    "### Good Read\n",
    "\n",
    "- [All my notebooks on pandas `apply()`](https://coindataschool.substack.com/p/pandas-apply)\n",
    "- Here's a [dashboard](https://coindataschool-husdlci-main-pfjljd.streamlit.app/) that \n",
    "  visualizes 30-day rolling correlations between BTC price and the Hayes USD liquidity condition index. "
   ]
  },
  {
   "cell_type": "markdown",
   "id": "5668325c",
   "metadata": {},
   "source": []
  }
 ],
 "metadata": {
  "kernelspec": {
   "display_name": "Python 3 (ipykernel)",
   "language": "python",
   "name": "python3"
  },
  "language_info": {
   "codemirror_mode": {
    "name": "ipython",
    "version": 3
   },
   "file_extension": ".py",
   "mimetype": "text/x-python",
   "name": "python",
   "nbconvert_exporter": "python",
   "pygments_lexer": "ipython3",
   "version": "3.10.8"
  }
 },
 "nbformat": 4,
 "nbformat_minor": 5
}
