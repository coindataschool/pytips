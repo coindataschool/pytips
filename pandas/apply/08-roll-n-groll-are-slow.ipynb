{
 "cells": [
  {
   "cell_type": "markdown",
   "id": "9e54a043",
   "metadata": {},
   "source": [
    "## Our `roll()` or `groll()` Can Be Slow\n",
    "\n",
    "Previously, I showed you that we can't use `rolling().apply()` to calculate \n",
    "rolling metrics with two or more columns as input. You can read it [here](https://github.com/coindataschool/pytips/blob/main/pandas/apply/07-pandas-rolling-apply-cannot-take-multiple-cols-as-input.ipynb). As a \n",
    "solution, I gave you two custome functions, namely, `roll()` and `groll()`. \n",
    "They get the job done but they can be slow. And in this notebook, I will show you \n",
    "how slow they can be by example. First, let's define them again."
   ]
  },
  {
   "cell_type": "code",
   "execution_count": 1,
   "id": "f7a69442-1ae9-471e-8d80-7d967cb8d5cb",
   "metadata": {},
   "outputs": [],
   "source": [
    "from typing import Union\n",
    "import numpy as np\n",
    "import pandas as pd\n",
    "from numpy.lib.stride_tricks import as_strided \n",
    "from defillama2 import DefiLlama\n",
    "\n",
    "pd.set_option('display.max_columns', 15)\n",
    "pd.set_option('display.max_rows', 50)\n",
    "pd.options.display.float_format = '{:,.4f}'.format"
   ]
  },
  {
   "cell_type": "code",
   "execution_count": 2,
   "id": "f0420dc5",
   "metadata": {},
   "outputs": [],
   "source": [
    "def roll(df: pd.DataFrame, window: int, **kwargs):\n",
    "    \"\"\"\n",
    "    Create all rolling subframes and group them by time index and return a \n",
    "    groupby object to be chained with apply(). Slow for large datasets. \n",
    "    Doesn't pad NaNs at the head of the resulting DataFrame. This behavior is \n",
    "    different from `df.rolling().apply()`, which returns a DataFrame with \n",
    "    leading NaNs by default so that its index and row count are the same with \n",
    "    the input DataFrame. Credit: https://stackoverflow.com/a/38879051. \n",
    "\n",
    "    Parameters\n",
    "    ----------\n",
    "    df : DataFrame\n",
    "    window : int\n",
    "        Number of periods to roll back.\n",
    "    **kwargs\n",
    "        Additional arguments for groupby.\n",
    "    \"\"\"\n",
    "\n",
    "    v = df.values\n",
    "    d0, d1 = v.shape\n",
    "    s0, s1 = v.strides\n",
    "\n",
    "    # memory efficient\n",
    "    array3d = as_strided(v, (d0 - (window-1), window, d1), (s0, s0, s1))\n",
    "\n",
    "    # # this is slow cuz of pd.concat(), do not use \n",
    "    # rolled_df = pd.concat({\n",
    "    #     row: pd.DataFrame(values, columns=df.columns)\n",
    "    #     for row, values in zip(df.iloc[window-1:,].index, array3d)\n",
    "    # })\n",
    "\n",
    "    # this is faster\n",
    "    a,b,c = array3d.shape    \n",
    "    rolled_df = pd.DataFrame(\n",
    "        array3d.transpose(2,0,1).reshape(c,-1).T,\n",
    "        index = pd.MultiIndex.from_arrays(\n",
    "            [np.repeat(df.iloc[window-1:,].index, b), \n",
    "             np.tile(np.arange(b), a)]),\n",
    "        columns = df.columns\n",
    "    )\n",
    "    \n",
    "    return rolled_df.groupby(level=0, **kwargs)\n",
    "\n",
    "# # how to use\n",
    "# roll(df, window).apply(your_function)\n",
    "# roll(df, window).mean()"
   ]
  },
  {
   "cell_type": "code",
   "execution_count": 3,
   "id": "83ddbd82",
   "metadata": {},
   "outputs": [],
   "source": [
    "def groll(df: pd.DataFrame, window: int): \n",
    "    \"\"\"\n",
    "    Returns a generator that yield each rolling subframe when called.\n",
    "\n",
    "    Parameters\n",
    "    ----------\n",
    "    df : DataFrame\n",
    "    window : int \n",
    "        Number of periods to roll back.\n",
    "    \"\"\"\n",
    "    for i in range(df.shape[0] - window + 1):\n",
    "        yield pd.DataFrame(df.values[i:i+window, :], \n",
    "                           df.index[i:i+window], \n",
    "                           df.columns)\n",
    "\n",
    "# # how to use\n",
    "# [your_function(subdf, arg1, arg2, ...) for subdf in groll(df, window)]"
   ]
  },
  {
   "cell_type": "markdown",
   "id": "40c33f98-b2cb-4d96-9ffd-303bc071b475",
   "metadata": {},
   "source": [
    "### Prep Data\n",
    "\n",
    "Let's download the daily close prices of GMX and ETH on Arbitrum between \n",
    "Oct 02, 2021 and Aug 07, 2023. Let's also calculate their daily returns."
   ]
  },
  {
   "cell_type": "code",
   "execution_count": 4,
   "id": "684e458f-aa89-4fb3-9a78-5b6fad559386",
   "metadata": {},
   "outputs": [
    {
     "data": {
      "text/html": [
       "<div>\n",
       "<style scoped>\n",
       "    .dataframe tbody tr th:only-of-type {\n",
       "        vertical-align: middle;\n",
       "    }\n",
       "\n",
       "    .dataframe tbody tr th {\n",
       "        vertical-align: top;\n",
       "    }\n",
       "\n",
       "    .dataframe thead th {\n",
       "        text-align: right;\n",
       "    }\n",
       "</style>\n",
       "<table border=\"1\" class=\"dataframe\">\n",
       "  <thead>\n",
       "    <tr style=\"text-align: right;\">\n",
       "      <th></th>\n",
       "      <th>GMX</th>\n",
       "      <th>WETH</th>\n",
       "    </tr>\n",
       "    <tr>\n",
       "      <th>date</th>\n",
       "      <th></th>\n",
       "      <th></th>\n",
       "    </tr>\n",
       "  </thead>\n",
       "  <tbody>\n",
       "    <tr>\n",
       "      <th>2021-10-03</th>\n",
       "      <td>0.1398</td>\n",
       "      <td>0.0089</td>\n",
       "    </tr>\n",
       "    <tr>\n",
       "      <th>2021-10-04</th>\n",
       "      <td>0.0126</td>\n",
       "      <td>-0.0060</td>\n",
       "    </tr>\n",
       "    <tr>\n",
       "      <th>2021-10-05</th>\n",
       "      <td>0.4427</td>\n",
       "      <td>0.0319</td>\n",
       "    </tr>\n",
       "    <tr>\n",
       "      <th>2021-10-06</th>\n",
       "      <td>-0.0819</td>\n",
       "      <td>0.0239</td>\n",
       "    </tr>\n",
       "    <tr>\n",
       "      <th>2021-10-07</th>\n",
       "      <td>-0.0184</td>\n",
       "      <td>-0.0013</td>\n",
       "    </tr>\n",
       "  </tbody>\n",
       "</table>\n",
       "</div>"
      ],
      "text/plain": [
       "               GMX    WETH\n",
       "date                      \n",
       "2021-10-03  0.1398  0.0089\n",
       "2021-10-04  0.0126 -0.0060\n",
       "2021-10-05  0.4427  0.0319\n",
       "2021-10-06 -0.0819  0.0239\n",
       "2021-10-07 -0.0184 -0.0013"
      ]
     },
     "execution_count": 4,
     "metadata": {},
     "output_type": "execute_result"
    }
   ],
   "source": [
    "dd = {'0xfc5a1a6eb076a2c7ad06ed22c90d7e710e35ad0a':'arbitrum', # GMX on arbitrum\n",
    "      '0x82aF49447D8a07e3bd95BD0d56f35241523fBab1':'arbitrum', # ETH on arbitrum      \n",
    "      }\n",
    "\n",
    "obj = DefiLlama() # create a DefiLlama instance\n",
    "\n",
    "# get historical daily close prices \n",
    "df = obj.get_daily_open_close(dd, start='2021-10-02', end='2023-08-07', kind='close')\n",
    "\n",
    "# calc daily returns\n",
    "rets = df.pct_change().dropna()\n",
    "rets.head()"
   ]
  },
  {
   "cell_type": "markdown",
   "id": "e29736be-7ce7-4068-8a71-683b290014cd",
   "metadata": {},
   "source": [
    "### Calculate Rolling p-value of Cointegration test\n",
    "\n",
    "Let's run Cointegration test between the daily returns of GMX and ETH on a 7-day \n",
    "rolling basis and extract the p-values. If you are unfamiliar with cointegration test and how it's used, these [two](https://www.youtube.com/watch?v=g-qvFjvyqcs) [video](https://www.youtube.com/watch?v=q5wbOSjbVW4) \n",
    "give a good introduction.  \n",
    "\n",
    "Now, the `statsmodels` package has a function called `coint()` that takes two \n",
    "series as input and runs the cointegration test. I wrote a wrapper function below \n",
    "that simply extracts the p-value from the output. "
   ]
  },
  {
   "cell_type": "code",
   "execution_count": 5,
   "id": "97294519",
   "metadata": {},
   "outputs": [],
   "source": [
    "from statsmodels.tsa.stattools import coint\n",
    "\n",
    "def coint_pval(\n",
    "    s1: Union[np.ndarray, np.array, pd.Series], \n",
    "    s2: Union[np.ndarray, np.array, pd.Series]): \n",
    "    \"\"\" Test if two series are cointegrated and returns the p-value. \"\"\"\n",
    "    return coint(s1, s2)[1]"
   ]
  },
  {
   "cell_type": "markdown",
   "id": "b370d1b5",
   "metadata": {},
   "source": [
    "Now let's apply this `coint_pval()` function to our returns data frame, taking \n",
    "the 'GMX' and 'WETH' columns as input on a 7-day rolling basis. "
   ]
  },
  {
   "cell_type": "code",
   "execution_count": 6,
   "id": "553c7ee6",
   "metadata": {},
   "outputs": [
    {
     "name": "stdout",
     "output_type": "stream",
     "text": [
      "1.8 s ± 46 ms per loop (mean ± std. dev. of 7 runs, 1 loop each)\n"
     ]
    }
   ],
   "source": [
    "%%timeit \n",
    "pvals_roll = roll(rets, 7).apply(lambda df: coint_pval(df['GMX'], df['WETH']))"
   ]
  },
  {
   "cell_type": "code",
   "execution_count": 7,
   "id": "7eb4f2c4",
   "metadata": {},
   "outputs": [
    {
     "name": "stdout",
     "output_type": "stream",
     "text": [
      "2.14 s ± 257 ms per loop (mean ± std. dev. of 7 runs, 1 loop each)\n"
     ]
    }
   ],
   "source": [
    "%%timeit \n",
    "pvals_groll = pd.concat([pd.Series(coint_pval(df['GMX'], df['WETH']), index=[df.index[-1]]) for df in groll(rets, 7)])"
   ]
  },
  {
   "cell_type": "markdown",
   "id": "b76725d8",
   "metadata": {},
   "source": [
    "We see both approaches are pretty slow. Keep in mind that the speed test was done \n",
    "on only 22 months of data. Definitely hard to scale on much larger datasets. Now \n",
    "one bottleneck is the `coint()` function from `statsmodels`. It is slow. So if \n",
    "we want to improve the speed for this particular case, we'd want to write a faster \n",
    "version of cointegration test."
   ]
  },
  {
   "cell_type": "markdown",
   "id": "969290cd",
   "metadata": {},
   "source": [
    "### Summary\n",
    "\n",
    "- `rolling().apply()` can NOT take multiple columns as input.\n",
    "- `roll()` or `groll()` defined above can. But they can be very SLOW!\n",
    "\n",
    "So how do we improve their speed? Unfortunately, we can't do much in general \n",
    "because often the slowness is caused by the function we are applying. We'll need \n",
    "to deal with it case by case. For example, in the next notebook, I'm going to \n",
    "show you a very fast way to calculate rolling betas of linear regressions. Make \n",
    "sure you star this [repo](https://github.com/coindataschool/pytips/tree/main/pandas/apply) \n",
    "to stay informed.\n",
    "\n",
    "### Good Read\n",
    "\n",
    "- [All my notebooks on pandas `apply()`](https://coindataschool.substack.com/p/pandas-apply).\n",
    "- [The original `roll()` function](https://stackoverflow.com/a/38879051).\n",
    "\n",
    "### Referral\n",
    "\n",
    "- Digital Ocean is a cloud computing platform where you can rent remote servers for cheap. \n",
    "  I have my remote data science server there. You can do the same and [get $200 credit](https://m.do.co/c/0a435cb96813). "
   ]
  },
  {
   "cell_type": "markdown",
   "id": "bdb03ad9",
   "metadata": {},
   "source": []
  }
 ],
 "metadata": {
  "kernelspec": {
   "display_name": "Python 3 (ipykernel)",
   "language": "python",
   "name": "python3"
  },
  "language_info": {
   "codemirror_mode": {
    "name": "ipython",
    "version": 3
   },
   "file_extension": ".py",
   "mimetype": "text/x-python",
   "name": "python",
   "nbconvert_exporter": "python",
   "pygments_lexer": "ipython3",
   "version": "3.10.8"
  }
 },
 "nbformat": 4,
 "nbformat_minor": 5
}
