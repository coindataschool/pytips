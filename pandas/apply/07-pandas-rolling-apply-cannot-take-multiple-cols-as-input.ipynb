{
 "cells": [
  {
   "cell_type": "markdown",
   "id": "9e54a043",
   "metadata": {},
   "source": [
    "## Pandas `rolling().apply()` Can't Take Multiple Columns as Input\n",
    "\n",
    "As the title indicates, `rolling().apply()` can't take multiple columns as input,\n",
    "so we can't use it to calculate rolling metrics that involve two or more columns \n",
    "in the calculation. In this notebook, I will provide a couple of solutions and \n",
    "demonstrate with several examples. Let's get started. "
   ]
  },
  {
   "cell_type": "code",
   "execution_count": 1,
   "id": "f7a69442-1ae9-471e-8d80-7d967cb8d5cb",
   "metadata": {},
   "outputs": [],
   "source": [
    "from typing import Union\n",
    "import numpy as np\n",
    "import pandas as pd\n",
    "from numpy.lib.stride_tricks import as_strided \n",
    "from defillama2 import DefiLlama\n",
    "\n",
    "pd.set_option('display.max_columns', 15)\n",
    "pd.set_option('display.max_rows', 50)\n",
    "pd.options.display.float_format = '{:,.4f}'.format"
   ]
  },
  {
   "cell_type": "code",
   "execution_count": 2,
   "id": "827f8fcf-88ae-4f9a-9b43-9fa5ae35cda7",
   "metadata": {},
   "outputs": [],
   "source": [
    "def equal(\n",
    "    a: Union[pd.DataFrame, pd.Series, np.ndarray], \n",
    "    b: Union[pd.DataFrame, pd.Series, np.ndarray]):\n",
    "    \"\"\" \n",
    "    Check if the corresponding values of two data frames or series or numpy arrays are the same.\n",
    "    \"\"\"\n",
    "    return (abs(a - b) > 1e-8).sum().sum() == 0 # 0 means same values"
   ]
  },
  {
   "cell_type": "markdown",
   "id": "772c8528",
   "metadata": {},
   "source": [
    "Solution 1: using `as_strided` from numpy. It pays if you know numpy well!"
   ]
  },
  {
   "cell_type": "code",
   "execution_count": 3,
   "id": "f0420dc5",
   "metadata": {},
   "outputs": [],
   "source": [
    "def roll(df: pd.DataFrame, window: int, **kwargs):\n",
    "    \"\"\"\n",
    "    Create all rolling subframes and group them by time index and return a \n",
    "    groupby object to be chained with apply(). Slow for large datasets. \n",
    "    Doesn't pad NaNs at the head of the resulting DataFrame. This behavior is \n",
    "    different from `df.rolling().apply()`, which returns a DataFrame with \n",
    "    leading NaNs by default so that its index and row count are the same with \n",
    "    the input DataFrame. Credit: https://stackoverflow.com/a/38879051. \n",
    "\n",
    "    Parameters\n",
    "    ----------\n",
    "    df : DataFrame\n",
    "    window : int\n",
    "        Number of periods to roll back.\n",
    "    **kwargs\n",
    "        Additional arguments for groupby.\n",
    "    \"\"\"\n",
    "\n",
    "    v = df.values\n",
    "    d0, d1 = v.shape\n",
    "    s0, s1 = v.strides\n",
    "\n",
    "    # memory efficient\n",
    "    array3d = as_strided(v, (d0 - (window-1), window, d1), (s0, s0, s1))\n",
    "\n",
    "    # # this is slow cuz of pd.concat(), do not use \n",
    "    # rolled_df = pd.concat({\n",
    "    #     row: pd.DataFrame(values, columns=df.columns)\n",
    "    #     for row, values in zip(df.iloc[window-1:,].index, array3d)\n",
    "    # })\n",
    "\n",
    "    # this is faster\n",
    "    a,b,c = array3d.shape    \n",
    "    rolled_df = pd.DataFrame(\n",
    "        array3d.transpose(2,0,1).reshape(c,-1).T,\n",
    "        index = pd.MultiIndex.from_arrays(\n",
    "            [np.repeat(df.iloc[window-1:,].index, b), \n",
    "             np.tile(np.arange(b), a)]),\n",
    "        columns = df.columns\n",
    "    )\n",
    "    \n",
    "    return rolled_df.groupby(level=0, **kwargs)\n",
    "\n",
    "# # how to use\n",
    "# roll(df, window).apply(your_function)\n",
    "# roll(df, window).mean()"
   ]
  },
  {
   "cell_type": "markdown",
   "id": "0225351a",
   "metadata": {},
   "source": [
    "Solution 2: using a generator to yield each rolling sub dataframe. We can then \n",
    "use list comprehension to wrap up whatever calculation we want to do using \n",
    "whichever columns from each sub dataframe."
   ]
  },
  {
   "cell_type": "code",
   "execution_count": 4,
   "id": "83ddbd82",
   "metadata": {},
   "outputs": [],
   "source": [
    "def groll(df: pd.DataFrame, window: int): \n",
    "    \"\"\"\n",
    "    Returns a generator that yield each rolling subframe when called.\n",
    "\n",
    "    Parameters\n",
    "    ----------\n",
    "    df : DataFrame\n",
    "    window : int \n",
    "        Number of periods to roll back.\n",
    "    \"\"\"\n",
    "    for i in range(df.shape[0] - window + 1):\n",
    "        yield pd.DataFrame(df.values[i:i+window, :], \n",
    "                           df.index[i:i+window], \n",
    "                           df.columns)\n",
    "\n",
    "# # how to use\n",
    "# [your_function(subdf, arg1, arg2, ...) for subdf in groll(df, window)]"
   ]
  },
  {
   "cell_type": "markdown",
   "id": "40c33f98-b2cb-4d96-9ffd-303bc071b475",
   "metadata": {},
   "source": [
    "### Prep Data"
   ]
  },
  {
   "cell_type": "code",
   "execution_count": 5,
   "id": "684e458f-aa89-4fb3-9a78-5b6fad559386",
   "metadata": {},
   "outputs": [
    {
     "data": {
      "text/html": [
       "<div>\n",
       "<style scoped>\n",
       "    .dataframe tbody tr th:only-of-type {\n",
       "        vertical-align: middle;\n",
       "    }\n",
       "\n",
       "    .dataframe tbody tr th {\n",
       "        vertical-align: top;\n",
       "    }\n",
       "\n",
       "    .dataframe thead th {\n",
       "        text-align: right;\n",
       "    }\n",
       "</style>\n",
       "<table border=\"1\" class=\"dataframe\">\n",
       "  <thead>\n",
       "    <tr style=\"text-align: right;\">\n",
       "      <th></th>\n",
       "      <th>ARB</th>\n",
       "      <th>GMX</th>\n",
       "      <th>WETH</th>\n",
       "    </tr>\n",
       "    <tr>\n",
       "      <th>date</th>\n",
       "      <th></th>\n",
       "      <th></th>\n",
       "      <th></th>\n",
       "    </tr>\n",
       "  </thead>\n",
       "  <tbody>\n",
       "    <tr>\n",
       "      <th>2023-03-24</th>\n",
       "      <td>-0.0459</td>\n",
       "      <td>-0.0659</td>\n",
       "      <td>-0.0338</td>\n",
       "    </tr>\n",
       "    <tr>\n",
       "      <th>2023-03-25</th>\n",
       "      <td>-0.0380</td>\n",
       "      <td>-0.0109</td>\n",
       "      <td>-0.0042</td>\n",
       "    </tr>\n",
       "    <tr>\n",
       "      <th>2023-03-26</th>\n",
       "      <td>0.0407</td>\n",
       "      <td>-0.0069</td>\n",
       "      <td>0.0129</td>\n",
       "    </tr>\n",
       "    <tr>\n",
       "      <th>2023-03-27</th>\n",
       "      <td>-0.0859</td>\n",
       "      <td>0.0392</td>\n",
       "      <td>-0.0330</td>\n",
       "    </tr>\n",
       "    <tr>\n",
       "      <th>2023-03-28</th>\n",
       "      <td>0.0403</td>\n",
       "      <td>0.0815</td>\n",
       "      <td>0.0337</td>\n",
       "    </tr>\n",
       "  </tbody>\n",
       "</table>\n",
       "</div>"
      ],
      "text/plain": [
       "               ARB     GMX    WETH\n",
       "date                              \n",
       "2023-03-24 -0.0459 -0.0659 -0.0338\n",
       "2023-03-25 -0.0380 -0.0109 -0.0042\n",
       "2023-03-26  0.0407 -0.0069  0.0129\n",
       "2023-03-27 -0.0859  0.0392 -0.0330\n",
       "2023-03-28  0.0403  0.0815  0.0337"
      ]
     },
     "execution_count": 5,
     "metadata": {},
     "output_type": "execute_result"
    }
   ],
   "source": [
    "dd = {'0xfc5a1a6eb076a2c7ad06ed22c90d7e710e35ad0a':'arbitrum', # GMX on arbitrum\n",
    "      '0x912CE59144191C1204E64559FE8253a0e49E6548':'arbitrum', # ARB on arbitrum\n",
    "      '0x82aF49447D8a07e3bd95BD0d56f35241523fBab1':'arbitrum', # ETH on arbitrum      \n",
    "      }\n",
    "\n",
    "obj = DefiLlama() # create a DefiLlama instance\n",
    "\n",
    "# get historical daily close prices \n",
    "df = obj.get_daily_open_close(dd, start='2023-03-23', end='2023-07-27', kind='close')\n",
    "\n",
    "# calc daily returns\n",
    "rets = df.pct_change().dropna()\n",
    "rets.head()"
   ]
  },
  {
   "cell_type": "markdown",
   "id": "e29736be-7ce7-4068-8a71-683b290014cd",
   "metadata": {},
   "source": [
    "### Correctness Check\n",
    "\n",
    "Let's check that our custom `roll()` and `groll()` functions give correct results\n",
    "by comparing with `rolling().apply()` or vectorization on 1 input column."
   ]
  },
  {
   "cell_type": "code",
   "execution_count": 6,
   "id": "984116ae-feba-4eb9-92af-bdc9214f7666",
   "metadata": {},
   "outputs": [
    {
     "name": "stdout",
     "output_type": "stream",
     "text": [
      "               ARB    GMX    WETH\n",
      "date                             \n",
      "2023-03-30  0.0051 0.0008 -0.0021\n",
      "2023-03-31  0.0137 0.0116  0.0051\n",
      "2023-04-01  0.0099 0.0118  0.0058\n",
      "2023-04-02 -0.0069 0.0107  0.0017\n",
      "2023-04-03 -0.0005 0.0016  0.0076 \n",
      "\n",
      "\n",
      "               ARB    GMX    WETH\n",
      "date                             \n",
      "2023-03-30  0.0051 0.0008 -0.0021\n",
      "2023-03-31  0.0137 0.0116  0.0051\n",
      "2023-04-01  0.0099 0.0118  0.0058\n",
      "2023-04-02 -0.0069 0.0107  0.0017\n",
      "2023-04-03 -0.0005 0.0016  0.0076 \n",
      "\n",
      "\n",
      "               ARB    GMX    WETH\n",
      "2023-03-30  0.0051 0.0008 -0.0021\n",
      "2023-03-31  0.0137 0.0116  0.0051\n",
      "2023-04-01  0.0099 0.0118  0.0058\n",
      "2023-04-02 -0.0069 0.0107  0.0017\n",
      "2023-04-03 -0.0005 0.0016  0.0076 \n",
      "\n",
      "\n"
     ]
    }
   ],
   "source": [
    "# calc 7d rolling means\n",
    "ndays = 7\n",
    "means_true = rets.rolling(ndays).mean()\n",
    "means_roll = roll(rets, ndays).mean()\n",
    "means_groll = pd.concat([pd.DataFrame([subdf.mean()], index=[subdf.index[-1]]) for subdf in groll(rets, ndays)])\n",
    "print(means_true.dropna().head(), '\\n\\n')\n",
    "print(means_roll.head(), '\\n\\n')\n",
    "print(means_groll.head(), '\\n\\n')"
   ]
  },
  {
   "cell_type": "code",
   "execution_count": 7,
   "id": "3912039d-086e-44ba-b821-f8652855f174",
   "metadata": {},
   "outputs": [],
   "source": [
    "assert equal(means_true, means_roll)\n",
    "assert equal(means_true, means_groll)"
   ]
  },
  {
   "cell_type": "code",
   "execution_count": 8,
   "id": "998a9995-82a3-4e17-8ae4-c840b4ae7d06",
   "metadata": {},
   "outputs": [
    {
     "name": "stdout",
     "output_type": "stream",
     "text": [
      "               ARB     GMX    WETH\n",
      "date                              \n",
      "2023-04-02  0.0068  0.0442 -0.3296\n",
      "2023-04-03  0.0423 -0.0081 -0.4963\n",
      "2023-04-04 -0.0004 -0.1027 -0.3730\n",
      "2023-04-05  0.1173  0.0664 -0.2141\n",
      "2023-04-06  0.2224 -0.2227  0.0646 \n",
      "\n",
      "\n",
      "               ARB     GMX    WETH\n",
      "date                              \n",
      "2023-04-02  0.0068  0.0442 -0.3296\n",
      "2023-04-03  0.0423 -0.0081 -0.4963\n",
      "2023-04-04 -0.0004 -0.1027 -0.3730\n",
      "2023-04-05  0.1173  0.0664 -0.2141\n",
      "2023-04-06  0.2224 -0.2227  0.0646 \n",
      "\n",
      "\n",
      "               ARB     GMX    WETH\n",
      "2023-04-02  0.0068  0.0442 -0.3296\n",
      "2023-04-03  0.0423 -0.0081 -0.4963\n",
      "2023-04-04 -0.0004 -0.1027 -0.3730\n",
      "2023-04-05  0.1173  0.0664 -0.2141\n",
      "2023-04-06  0.2224 -0.2227  0.0646 \n",
      "\n",
      "\n"
     ]
    }
   ],
   "source": [
    "# calc 10d auto correlations\n",
    "ndays = 10\n",
    "autocorr_true = rets.rolling(ndays).apply(lambda xs: xs.autocorr())\n",
    "autocorr_roll = roll(rets, ndays).apply(lambda df: df.apply(lambda xs: xs.autocorr()))\n",
    "autocorr_groll = pd.DataFrame.from_dict({dt: df.apply(lambda xs: xs.autocorr()) for dt, df in roll(rets, ndays)}).transpose()\n",
    "print(autocorr_true.dropna().head(), '\\n\\n')\n",
    "print(autocorr_roll.head(), '\\n\\n')\n",
    "print(autocorr_groll.head(), '\\n\\n')\n"
   ]
  },
  {
   "cell_type": "code",
   "execution_count": 9,
   "id": "5dac6727",
   "metadata": {},
   "outputs": [],
   "source": [
    "assert equal(autocorr_true, autocorr_roll)\n",
    "assert equal(autocorr_true, autocorr_groll)"
   ]
  },
  {
   "cell_type": "markdown",
   "id": "efaf2d0b-a110-4226-972d-1292729b084d",
   "metadata": {},
   "source": [
    "### Find the p-value of Cointegration test\n",
    "\n",
    "If you don't know what cointegration test is or how it's used in trading, work through this [notebook](https://www.quantrocket.com/code/?repo=quant-finance-lectures&path=%2Fcodeload%2Fquant-finance-lectures%2Fquant_finance_lectures%2FLecture42-Introduction-to-Pairs-Trading.ipynb.html) first. The `statsmodels` package has a function called `coint()` that \n",
    "takes two input series and runs the cointegration test. I created a wrapper below \n",
    "that simply extract the p-value from the output. "
   ]
  },
  {
   "cell_type": "code",
   "execution_count": 10,
   "id": "97294519",
   "metadata": {},
   "outputs": [],
   "source": [
    "from statsmodels.tsa.stattools import coint\n",
    "\n",
    "def coint_pval(\n",
    "    s1: Union[np.ndarray, np.array, pd.Series], \n",
    "    s2: Union[np.ndarray, np.array, pd.Series]): \n",
    "    \"\"\" Test if two series are cointegrated and returns the p-value. \"\"\"\n",
    "    return coint(s1, s2)[1]"
   ]
  },
  {
   "cell_type": "markdown",
   "id": "b370d1b5",
   "metadata": {},
   "source": [
    "Say we want to find the 7-day rolling p-values of cointegration test between GMX and ARB.\n",
    "We cannot just `df.rolling().apply(lambda ser1, ser2: coint_pval(ser1, ser2))` \n",
    "because `apply()` only takes 1 input column! So we'll need to use our custom \n",
    "`roll()` or `groll()` functions defined above."
   ]
  },
  {
   "cell_type": "code",
   "execution_count": 11,
   "id": "553c7ee6",
   "metadata": {},
   "outputs": [
    {
     "name": "stdout",
     "output_type": "stream",
     "text": [
      "date\n",
      "2023-03-30   0.3185\n",
      "2023-03-31   0.1819\n",
      "2023-04-01   0.1916\n",
      "2023-04-02   1.0000\n",
      "2023-04-03   0.4440\n",
      "dtype: float64 \n",
      "\n",
      "\n",
      "2023-03-30   0.3185\n",
      "2023-03-31   0.1819\n",
      "2023-04-01   0.1916\n",
      "2023-04-02   1.0000\n",
      "2023-04-03   0.4440\n",
      "dtype: float64 \n",
      "\n",
      "\n"
     ]
    }
   ],
   "source": [
    "pvals_roll = roll(rets, 7).apply(lambda df: coint_pval(df['GMX'], df['ARB']))\n",
    "pvals_groll = pd.concat([pd.Series(coint_pval(df['GMX'], df['ARB']), index=[df.index[-1]]) for df in groll(rets, 7)])\n",
    "print(pvals_roll.dropna().head(), '\\n\\n')\n",
    "print(pvals_groll.head(), '\\n\\n')"
   ]
  },
  {
   "cell_type": "code",
   "execution_count": 12,
   "id": "03b93d64",
   "metadata": {},
   "outputs": [],
   "source": [
    "assert equal(pvals_roll, pvals_groll)"
   ]
  },
  {
   "cell_type": "markdown",
   "id": "969290cd",
   "metadata": {},
   "source": [
    "### Summary\n",
    "\n",
    "- `rolling().apply()` can NOT take multiple columns as input.\n",
    "- Use `roll()` or `groll()` defined in this notebook to calculate \n",
    "  rolling metrics that require two or more input columns in the calculation.\n",
    "\n",
    "Sadly, neither `roll()` or `groll()` is fast, which we'll see in the next notebook.\n",
    "Make sure you star and watch this [repo](https://github.com/coindataschool/pytips/tree/main/pandas/apply) \n",
    "to stay informed.\n",
    "\n",
    "### Good Read\n",
    "\n",
    "- [All my notebooks on pandas `apply()`](https://coindataschool.substack.com/p/pandas-apply)\n",
    "- [The original `roll()` function](https://stackoverflow.com/a/38879051)"
   ]
  },
  {
   "cell_type": "markdown",
   "id": "bdb03ad9",
   "metadata": {},
   "source": []
  }
 ],
 "metadata": {
  "kernelspec": {
   "display_name": "Python 3 (ipykernel)",
   "language": "python",
   "name": "python3"
  },
  "language_info": {
   "codemirror_mode": {
    "name": "ipython",
    "version": 3
   },
   "file_extension": ".py",
   "mimetype": "text/x-python",
   "name": "python",
   "nbconvert_exporter": "python",
   "pygments_lexer": "ipython3",
   "version": "3.10.8"
  }
 },
 "nbformat": 4,
 "nbformat_minor": 5
}
