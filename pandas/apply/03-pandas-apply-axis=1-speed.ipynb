{
 "cells": [
  {
   "attachments": {},
   "cell_type": "markdown",
   "metadata": {},
   "source": [
    "## Pandas `apply(func, axis=1)` Speed\n",
    "\n",
    "> Pandas `apply()` is often slower than vectorization and list comp and \n",
    "> consumes a lot more memory.\n",
    "\n",
    "*Note: The performance of pandas `apply()` has improved as of July 2023. But `apply(func, axis=1)` row-wise is still slow. In fact, not only it's slower than vectorization or list comp, it's even slower than `itertuples()`. So you should avoid using it.*\n",
    "\n",
    "This notebook tries to convince you `apply()` row-wise (`axis=1`) on a DataFrame \n",
    "is bad because it's slower than vectorization, list comp, and even `itertuples()`. \n",
    "If you are new to pandas `apply()`, you will want to learn its [most common use pattern](https://github.com/coindataschool/pytips/blob/main/pandas/apply/01-pandas-apply-common-use-pattern.ipynb) and read [the speed \n",
    "analysis of `apply(func, axis=0)`](https://github.com/coindataschool/pytips/blob/main/pandas/apply/02-pandas-apply-axis%3D0-speed.ipynb) first. "
   ]
  },
  {
   "cell_type": "code",
   "execution_count": 1,
   "metadata": {},
   "outputs": [],
   "source": [
    "import pandas as pd\n",
    "import numpy as np\n",
    "from defillama2 import DefiLlama"
   ]
  },
  {
   "cell_type": "markdown",
   "metadata": {},
   "source": [
    "### Data Prep"
   ]
  },
  {
   "cell_type": "code",
   "execution_count": 2,
   "metadata": {},
   "outputs": [
    {
     "name": "stdout",
     "output_type": "stream",
     "text": [
      "<class 'pandas.core.frame.DataFrame'>\n",
      "RangeIndex: 3032 entries, 0 to 3031\n",
      "Data columns (total 10 columns):\n",
      " #   Column       Non-Null Count  Dtype  \n",
      "---  ------       --------------  -----  \n",
      " 0   name         3032 non-null   object \n",
      " 1   symbol       3032 non-null   object \n",
      " 2   chain        3032 non-null   object \n",
      " 3   category     3032 non-null   object \n",
      " 4   chains       3032 non-null   object \n",
      " 5   tvl          3032 non-null   float64\n",
      " 6   change_1d    2471 non-null   float64\n",
      " 7   change_7d    2486 non-null   float64\n",
      " 8   mcap         1421 non-null   float64\n",
      " 9   forked_from  2189 non-null   object \n",
      "dtypes: float64(4), object(6)\n",
      "memory usage: 237.0+ KB\n"
     ]
    }
   ],
   "source": [
    "obj = DefiLlama() # create a DefiLlama instance\n",
    "df = obj.get_protocols_fundamentals() # get fundamentals for all protocols\n",
    "df.info()"
   ]
  },
  {
   "cell_type": "code",
   "execution_count": 3,
   "metadata": {},
   "outputs": [
    {
     "data": {
      "text/html": [
       "<div>\n",
       "<style scoped>\n",
       "    .dataframe tbody tr th:only-of-type {\n",
       "        vertical-align: middle;\n",
       "    }\n",
       "\n",
       "    .dataframe tbody tr th {\n",
       "        vertical-align: top;\n",
       "    }\n",
       "\n",
       "    .dataframe thead th {\n",
       "        text-align: right;\n",
       "    }\n",
       "</style>\n",
       "<table border=\"1\" class=\"dataframe\">\n",
       "  <thead>\n",
       "    <tr style=\"text-align: right;\">\n",
       "      <th></th>\n",
       "      <th>name</th>\n",
       "      <th>symbol</th>\n",
       "      <th>chain</th>\n",
       "    </tr>\n",
       "  </thead>\n",
       "  <tbody>\n",
       "    <tr>\n",
       "      <th>0</th>\n",
       "      <td>Curve DEX</td>\n",
       "      <td>CRV</td>\n",
       "      <td>Multi-Chain</td>\n",
       "    </tr>\n",
       "    <tr>\n",
       "      <th>1</th>\n",
       "      <td>Uniswap V3</td>\n",
       "      <td>UNI</td>\n",
       "      <td>Multi-Chain</td>\n",
       "    </tr>\n",
       "    <tr>\n",
       "      <th>2</th>\n",
       "      <td>PancakeSwap AMM</td>\n",
       "      <td>CAKE</td>\n",
       "      <td>Multi-Chain</td>\n",
       "    </tr>\n",
       "    <tr>\n",
       "      <th>3</th>\n",
       "      <td>Uniswap V2</td>\n",
       "      <td>UNI</td>\n",
       "      <td>Ethereum</td>\n",
       "    </tr>\n",
       "    <tr>\n",
       "      <th>4</th>\n",
       "      <td>Balancer V2</td>\n",
       "      <td>BAL</td>\n",
       "      <td>Multi-Chain</td>\n",
       "    </tr>\n",
       "  </tbody>\n",
       "</table>\n",
       "</div>"
      ],
      "text/plain": [
       "              name symbol        chain\n",
       "0        Curve DEX    CRV  Multi-Chain\n",
       "1       Uniswap V3    UNI  Multi-Chain\n",
       "2  PancakeSwap AMM   CAKE  Multi-Chain\n",
       "3       Uniswap V2    UNI     Ethereum\n",
       "4      Balancer V2    BAL  Multi-Chain"
      ]
     },
     "execution_count": 3,
     "metadata": {},
     "output_type": "execute_result"
    }
   ],
   "source": [
    "cond = df['category'] == 'Dexes' # focus on DEXes\n",
    "cols = ['name', 'symbol', 'chain'] # focus on these cols\n",
    "subdf = df.loc[cond, cols].reset_index(drop=True) # drop the original index\n",
    "# subdf.set_index('name', inplace=True) # use name as index\n",
    "subdf.head()"
   ]
  },
  {
   "cell_type": "code",
   "execution_count": 4,
   "metadata": {},
   "outputs": [
    {
     "data": {
      "text/html": [
       "<div>\n",
       "<style scoped>\n",
       "    .dataframe tbody tr th:only-of-type {\n",
       "        vertical-align: middle;\n",
       "    }\n",
       "\n",
       "    .dataframe tbody tr th {\n",
       "        vertical-align: top;\n",
       "    }\n",
       "\n",
       "    .dataframe thead th {\n",
       "        text-align: right;\n",
       "    }\n",
       "</style>\n",
       "<table border=\"1\" class=\"dataframe\">\n",
       "  <thead>\n",
       "    <tr style=\"text-align: right;\">\n",
       "      <th></th>\n",
       "      <th>broad_name</th>\n",
       "      <th>name</th>\n",
       "      <th>symbol</th>\n",
       "      <th>chain</th>\n",
       "    </tr>\n",
       "  </thead>\n",
       "  <tbody>\n",
       "    <tr>\n",
       "      <th>0</th>\n",
       "      <td>Curve</td>\n",
       "      <td>Curve DEX</td>\n",
       "      <td>CRV</td>\n",
       "      <td>Multi-Chain</td>\n",
       "    </tr>\n",
       "    <tr>\n",
       "      <th>1</th>\n",
       "      <td>Uniswap</td>\n",
       "      <td>Uniswap V3</td>\n",
       "      <td>UNI</td>\n",
       "      <td>Multi-Chain</td>\n",
       "    </tr>\n",
       "    <tr>\n",
       "      <th>2</th>\n",
       "      <td>PancakeSwap AMM</td>\n",
       "      <td>PancakeSwap AMM</td>\n",
       "      <td>CAKE</td>\n",
       "      <td>Multi-Chain</td>\n",
       "    </tr>\n",
       "    <tr>\n",
       "      <th>3</th>\n",
       "      <td>Uniswap</td>\n",
       "      <td>Uniswap V2</td>\n",
       "      <td>UNI</td>\n",
       "      <td>Ethereum</td>\n",
       "    </tr>\n",
       "    <tr>\n",
       "      <th>4</th>\n",
       "      <td>Balancer</td>\n",
       "      <td>Balancer V2</td>\n",
       "      <td>BAL</td>\n",
       "      <td>Multi-Chain</td>\n",
       "    </tr>\n",
       "  </tbody>\n",
       "</table>\n",
       "</div>"
      ],
      "text/plain": [
       "        broad_name             name symbol        chain\n",
       "0           Curve         Curve DEX    CRV  Multi-Chain\n",
       "1         Uniswap        Uniswap V3    UNI  Multi-Chain\n",
       "2  PancakeSwap AMM  PancakeSwap AMM   CAKE  Multi-Chain\n",
       "3         Uniswap        Uniswap V2    UNI     Ethereum\n",
       "4        Balancer       Balancer V2    BAL  Multi-Chain"
      ]
     },
     "execution_count": 4,
     "metadata": {},
     "output_type": "execute_result"
    }
   ],
   "source": [
    "# derive a new col from the name col by striping away 'DEX' and any versioning\n",
    "# note I'm using the vectorized string function 'replace()' in pandas to do it.\n",
    "xs = subdf['name'].str.replace('DEX|V[0-9]+', '', regex=True)\n",
    "# make this col the first col of the dataframe\n",
    "subdf.insert(0, column='broad_name', value=xs)\n",
    "subdf.head()"
   ]
  },
  {
   "cell_type": "markdown",
   "metadata": {},
   "source": [
    "### Compare Character Columns\n",
    "\n",
    "A common problem we encounter as a data analyst is to check whether values in \n",
    "column A are present in column B on the same row, where column A and B are \n",
    "columns of strings. For example, given the above data, we'd want to do a sanity \n",
    "check to make sure `name_broad` is really a broad description of `name`. \n",
    "And we'd expect to see all values of `name_broad` are present in `name` but not \n",
    "vice versa. Unfortunately, there are no vectorized string methods in pandas that \n",
    "allow us to do this."
   ]
  },
  {
   "cell_type": "code",
   "execution_count": 5,
   "metadata": {},
   "outputs": [],
   "source": [
    "# # you may attempt to use `.contains()`, but it doesn't work. \n",
    "# # uncomment and run this block and examine the error yourself\n",
    "# subdf['name'].str.contains(subdf['broad_name'])"
   ]
  },
  {
   "cell_type": "code",
   "execution_count": 6,
   "metadata": {},
   "outputs": [],
   "source": [
    "# # you may say, \"oh, what about .isin()\". Unfortunately, it gives wrong results \n",
    "# # because it doesn't compare values row-wise. See doc for details:\n",
    "# # https://pandas.pydata.org/pandas-docs/stable/reference/api/pandas.DataFrame.isin.html\n",
    "# # uncomment and run this block and compare results with blocks below\n",
    "# is_broad_name_in_name = subdf['broad_name'].str.lower().isin(subdf['name'].str.lower())\n",
    "# is_name_in_broad_name = subdf['name'].str.lower().isin(subdf['broad_name'].str.lower())\n",
    "# n = len(subdf)\n",
    "# print(f\"How many values of `broad name` are present in `name`: {np.sum(is_broad_name_in_name)} out of {n}\")\n",
    "# print(f\"How many values of `name` are present in `broad name`: {np.sum(is_name_in_broad_name)} out of {n}\")"
   ]
  },
  {
   "cell_type": "markdown",
   "metadata": {},
   "source": [
    "But we can do it with `apply(func, axis=1)`. (Doesn't mean we should as my goal \n",
    "is to convince you not. Keep reading to find out why.)"
   ]
  },
  {
   "cell_type": "code",
   "execution_count": 7,
   "metadata": {},
   "outputs": [
    {
     "name": "stdout",
     "output_type": "stream",
     "text": [
      "How many values of `broad name` are present in `name`: 905 out of 909\n",
      "How many values of `name` are present in `broad name`: 821 out of 909\n"
     ]
    }
   ],
   "source": [
    "# apply(func, axis=1), i.e., apply func row-wise\n",
    "is_broad_name_in_name = subdf.apply(\n",
    "    lambda row: row['broad_name'] in row['name'], \n",
    "    axis=1\n",
    ")\n",
    "is_name_in_broad_name = subdf.apply(\n",
    "    lambda row: row['name'] in row['broad_name'],\n",
    "    axis=1\n",
    ")\n",
    "n = len(subdf)\n",
    "print(f\"How many values of `broad name` are present in `name`: {np.sum(is_broad_name_in_name)} out of {n}\")\n",
    "print(f\"How many values of `name` are present in `broad name`: {np.sum(is_name_in_broad_name)} out of {n}\")"
   ]
  },
  {
   "cell_type": "code",
   "execution_count": 8,
   "metadata": {},
   "outputs": [
    {
     "data": {
      "text/html": [
       "<div>\n",
       "<style scoped>\n",
       "    .dataframe tbody tr th:only-of-type {\n",
       "        vertical-align: middle;\n",
       "    }\n",
       "\n",
       "    .dataframe tbody tr th {\n",
       "        vertical-align: top;\n",
       "    }\n",
       "\n",
       "    .dataframe thead th {\n",
       "        text-align: right;\n",
       "    }\n",
       "</style>\n",
       "<table border=\"1\" class=\"dataframe\">\n",
       "  <thead>\n",
       "    <tr style=\"text-align: right;\">\n",
       "      <th></th>\n",
       "      <th>broad_name</th>\n",
       "      <th>name</th>\n",
       "      <th>symbol</th>\n",
       "      <th>chain</th>\n",
       "    </tr>\n",
       "  </thead>\n",
       "  <tbody>\n",
       "    <tr>\n",
       "      <th>25</th>\n",
       "      <td>Joe .1</td>\n",
       "      <td>Joe V2.1</td>\n",
       "      <td>JOE</td>\n",
       "      <td>Multi-Chain</td>\n",
       "    </tr>\n",
       "    <tr>\n",
       "      <th>59</th>\n",
       "      <td>Bancor .1</td>\n",
       "      <td>Bancor V2.1</td>\n",
       "      <td>BNT</td>\n",
       "      <td>Ethereum</td>\n",
       "    </tr>\n",
       "    <tr>\n",
       "      <th>619</th>\n",
       "      <td>Poly-Cryption Network</td>\n",
       "      <td>PolyDEX-Cryption Network</td>\n",
       "      <td>CNT</td>\n",
       "      <td>Polygon</td>\n",
       "    </tr>\n",
       "    <tr>\n",
       "      <th>775</th>\n",
       "      <td>SmartBCH</td>\n",
       "      <td>SmartDEXBCH</td>\n",
       "      <td>DSMART</td>\n",
       "      <td>smartBCH</td>\n",
       "    </tr>\n",
       "  </tbody>\n",
       "</table>\n",
       "</div>"
      ],
      "text/plain": [
       "                broad_name                      name  symbol        chain\n",
       "25                  Joe .1                  Joe V2.1     JOE  Multi-Chain\n",
       "59               Bancor .1               Bancor V2.1     BNT     Ethereum\n",
       "619  Poly-Cryption Network  PolyDEX-Cryption Network     CNT      Polygon\n",
       "775               SmartBCH               SmartDEXBCH  DSMART     smartBCH"
      ]
     },
     "execution_count": 8,
     "metadata": {},
     "output_type": "execute_result"
    }
   ],
   "source": [
    "# oops, we'd expect all broad names are in name, something is off, let's examine\n",
    "subdf[~is_broad_name_in_name]"
   ]
  },
  {
   "cell_type": "markdown",
   "metadata": {},
   "source": [
    "In general, it's difficult to vectorize string operations, and you can consider \n",
    "`apply(func, axis=1)` when you are comparing or manipulating multiple string \n",
    "columns. But you really shouldn't because there is better alternative, namely, \n",
    "list comp. "
   ]
  },
  {
   "cell_type": "code",
   "execution_count": 9,
   "metadata": {},
   "outputs": [
    {
     "name": "stdout",
     "output_type": "stream",
     "text": [
      "How many values of `broad name` are present in `name`: 905 out of 909\n",
      "How many values of `name` are present in `broad name`: 821 out of 909\n"
     ]
    },
    {
     "data": {
      "text/html": [
       "<div>\n",
       "<style scoped>\n",
       "    .dataframe tbody tr th:only-of-type {\n",
       "        vertical-align: middle;\n",
       "    }\n",
       "\n",
       "    .dataframe tbody tr th {\n",
       "        vertical-align: top;\n",
       "    }\n",
       "\n",
       "    .dataframe thead th {\n",
       "        text-align: right;\n",
       "    }\n",
       "</style>\n",
       "<table border=\"1\" class=\"dataframe\">\n",
       "  <thead>\n",
       "    <tr style=\"text-align: right;\">\n",
       "      <th></th>\n",
       "      <th>broad_name</th>\n",
       "      <th>name</th>\n",
       "      <th>symbol</th>\n",
       "      <th>chain</th>\n",
       "    </tr>\n",
       "  </thead>\n",
       "  <tbody>\n",
       "    <tr>\n",
       "      <th>25</th>\n",
       "      <td>Joe .1</td>\n",
       "      <td>Joe V2.1</td>\n",
       "      <td>JOE</td>\n",
       "      <td>Multi-Chain</td>\n",
       "    </tr>\n",
       "    <tr>\n",
       "      <th>59</th>\n",
       "      <td>Bancor .1</td>\n",
       "      <td>Bancor V2.1</td>\n",
       "      <td>BNT</td>\n",
       "      <td>Ethereum</td>\n",
       "    </tr>\n",
       "    <tr>\n",
       "      <th>619</th>\n",
       "      <td>Poly-Cryption Network</td>\n",
       "      <td>PolyDEX-Cryption Network</td>\n",
       "      <td>CNT</td>\n",
       "      <td>Polygon</td>\n",
       "    </tr>\n",
       "    <tr>\n",
       "      <th>775</th>\n",
       "      <td>SmartBCH</td>\n",
       "      <td>SmartDEXBCH</td>\n",
       "      <td>DSMART</td>\n",
       "      <td>smartBCH</td>\n",
       "    </tr>\n",
       "  </tbody>\n",
       "</table>\n",
       "</div>"
      ],
      "text/plain": [
       "                broad_name                      name  symbol        chain\n",
       "25                  Joe .1                  Joe V2.1     JOE  Multi-Chain\n",
       "59               Bancor .1               Bancor V2.1     BNT     Ethereum\n",
       "619  Poly-Cryption Network  PolyDEX-Cryption Network     CNT      Polygon\n",
       "775               SmartBCH               SmartDEXBCH  DSMART     smartBCH"
      ]
     },
     "execution_count": 9,
     "metadata": {},
     "output_type": "execute_result"
    }
   ],
   "source": [
    "# list comp over zip(colA, colB) \n",
    "is_broad_name_in_name = [x in y for x, y in zip(subdf['broad_name'], subdf['name'])]\n",
    "is_name_in_broad_name = [y in x for x, y in zip(subdf['broad_name'], subdf['name'])]\n",
    "print(f\"How many values of `broad name` are present in `name`: {np.sum(is_broad_name_in_name)} out of {n}\")\n",
    "print(f\"How many values of `name` are present in `broad name`: {np.sum(is_name_in_broad_name)} out of {n}\")\n",
    "subdf[~pd.Series(is_broad_name_in_name)]"
   ]
  },
  {
   "cell_type": "markdown",
   "metadata": {},
   "source": [
    "### Speed Comparison\n",
    "\n",
    "That's because list comp is much faster than `apply(func, axis=1)`. Don't believe me? \n",
    "Run the code block below."
   ]
  },
  {
   "cell_type": "code",
   "execution_count": 10,
   "metadata": {},
   "outputs": [
    {
     "name": "stdout",
     "output_type": "stream",
     "text": [
      "9.5 ms ± 196 µs per loop (mean ± std. dev. of 7 runs, 100 loops each)\n",
      "263 µs ± 5.56 µs per loop (mean ± std. dev. of 7 runs, 1,000 loops each)\n"
     ]
    }
   ],
   "source": [
    "%timeit subdf.apply(lambda row: row['broad_name'] in row['name'], axis=1) \n",
    "%timeit [x in y for x, y in zip(subdf['broad_name'], subdf['name'])] # zip() is powerful. Use more of it."
   ]
  },
  {
   "cell_type": "markdown",
   "metadata": {},
   "source": [
    "In fact, `apply(func, axis=1)` is even slower than `itertuples()`."
   ]
  },
  {
   "cell_type": "code",
   "execution_count": 11,
   "metadata": {},
   "outputs": [
    {
     "name": "stdout",
     "output_type": "stream",
     "text": [
      "9.41 ms ± 325 µs per loop (mean ± std. dev. of 7 runs, 100 loops each)\n",
      "1.28 ms ± 43.9 µs per loop (mean ± std. dev. of 7 runs, 1,000 loops each)\n"
     ]
    }
   ],
   "source": [
    "%timeit subdf.apply(lambda row: row['broad_name'] in row['name'], axis=1) \n",
    "%timeit [row.broad_name in row.name for row in subdf.itertuples()]"
   ]
  },
  {
   "cell_type": "markdown",
   "metadata": {},
   "source": [
    "### Summary\n",
    "\n",
    "- Vectorize if possible.\n",
    "- Use more of List comp. The `zip()` function is your fren. \n",
    "- Avoid `apply(func, axis=1)`. \n",
    "\n",
    "\n",
    "### Good Read\n",
    "\n",
    "- Get DeFi data easily using [defillama2](https://github.com/coindataschool/defillama2).\n",
    "- [When should you not use pandas `apply()`](https://stackoverflow.com/questions/54432583/when-should-i-not-want-to-use-pandas-apply-in-my-code).\n",
    "- [Don't iterate over rows in Pandas DataFrame](https://stackoverflow.com/questions/16476924/how-to-iterate-over-rows-in-a-dataframe-in-pandas/55557758#55557758).\n",
    "- [Are `for` loops bad in Pandas?](https://stackoverflow.com/questions/54028199/are-for-loops-in-pandas-really-bad-when-should-i-care).\n",
    "- [How Not to Use pandas' \"apply\"](https://ys-l.github.io/posts/2015/08/28/how-not-to-use-pandas-apply/)"
   ]
  },
  {
   "cell_type": "markdown",
   "metadata": {},
   "source": []
  }
 ],
 "metadata": {
  "kernelspec": {
   "display_name": "Python 3 (ipykernel)",
   "language": "python",
   "name": "python3"
  },
  "language_info": {
   "codemirror_mode": {
    "name": "ipython",
    "version": 3
   },
   "file_extension": ".py",
   "mimetype": "text/x-python",
   "name": "python",
   "nbconvert_exporter": "python",
   "pygments_lexer": "ipython3",
   "version": "3.10.8"
  }
 },
 "nbformat": 4,
 "nbformat_minor": 4
}
