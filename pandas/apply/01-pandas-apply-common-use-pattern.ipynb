{
 "cells": [
  {
   "attachments": {},
   "cell_type": "markdown",
   "metadata": {},
   "source": [
    "## The Most Common Use Pattern for Pandas `apply()`\n",
    "\n",
    "> You might be surprised how many people can't write `apply()`.\n",
    "\n",
    "> Avoid `apply()` cuz it's slow and memory inefficient. \n",
    "\n",
    "These are statements from data scientists I respect. They are both correct. On\n",
    "one hand, you want to know `apply()` because it's convenient and because it can \n",
    "show up during interviews. On the other hand, `apply()` is often not needed, \n",
    "and there are alternatives that are faster and more memory efficient.\n",
    "\n",
    "My goal here is to show you the most common use pattern of `apply()`, while \n",
    "ignoring the many other things it can do. (Yes, it can do many things, but \n",
    "always remember the 80-20 rule even when coding.)\n",
    "\n",
    "*I primarily use `apply()` to apply a reducing function (often for aggregation purpose)\n",
    "either column-wise (axis=0, default) or row-wise (axis=1) on a DataFrame or \n",
    "a group of DataFrames when the dataset is small or medium-sized.*\n",
    "\n",
    "By reducing function, I mean a function that collapses the dimension of the input data. \n",
    "Let's see some examples."
   ]
  },
  {
   "cell_type": "code",
   "execution_count": 1,
   "metadata": {},
   "outputs": [],
   "source": [
    "import pandas as pd\n",
    "import numpy as np\n",
    "from defillama2 import DefiLlama"
   ]
  },
  {
   "cell_type": "markdown",
   "metadata": {},
   "source": [
    "### Data Prep"
   ]
  },
  {
   "cell_type": "code",
   "execution_count": 2,
   "metadata": {},
   "outputs": [
    {
     "name": "stdout",
     "output_type": "stream",
     "text": [
      "<class 'pandas.core.frame.DataFrame'>\n",
      "RangeIndex: 3079 entries, 0 to 3078\n",
      "Data columns (total 10 columns):\n",
      " #   Column       Non-Null Count  Dtype  \n",
      "---  ------       --------------  -----  \n",
      " 0   name         3079 non-null   object \n",
      " 1   symbol       3079 non-null   object \n",
      " 2   chain        3079 non-null   object \n",
      " 3   category     3079 non-null   object \n",
      " 4   chains       3079 non-null   object \n",
      " 5   tvl          3079 non-null   float64\n",
      " 6   change_1d    2514 non-null   float64\n",
      " 7   change_7d    2456 non-null   float64\n",
      " 8   mcap         1423 non-null   float64\n",
      " 9   forked_from  2236 non-null   object \n",
      "dtypes: float64(4), object(6)\n",
      "memory usage: 240.7+ KB\n"
     ]
    }
   ],
   "source": [
    "obj = DefiLlama() # create a DefiLlama instance\n",
    "df = obj.get_protocols_fundamentals() # get fundamentals for all protocols\n",
    "df.info()"
   ]
  },
  {
   "cell_type": "code",
   "execution_count": 3,
   "metadata": {},
   "outputs": [
    {
     "data": {
      "text/html": [
       "<div>\n",
       "<style scoped>\n",
       "    .dataframe tbody tr th:only-of-type {\n",
       "        vertical-align: middle;\n",
       "    }\n",
       "\n",
       "    .dataframe tbody tr th {\n",
       "        vertical-align: top;\n",
       "    }\n",
       "\n",
       "    .dataframe thead th {\n",
       "        text-align: right;\n",
       "    }\n",
       "</style>\n",
       "<table border=\"1\" class=\"dataframe\">\n",
       "  <thead>\n",
       "    <tr style=\"text-align: right;\">\n",
       "      <th></th>\n",
       "      <th>tvl</th>\n",
       "      <th>change_1d</th>\n",
       "      <th>change_7d</th>\n",
       "      <th>mcap</th>\n",
       "    </tr>\n",
       "    <tr>\n",
       "      <th>name</th>\n",
       "      <th></th>\n",
       "      <th></th>\n",
       "      <th></th>\n",
       "      <th></th>\n",
       "    </tr>\n",
       "  </thead>\n",
       "  <tbody>\n",
       "    <tr>\n",
       "      <th>Lido</th>\n",
       "      <td>1.473266e+10</td>\n",
       "      <td>0.464218</td>\n",
       "      <td>-1.701088</td>\n",
       "      <td>1.686376e+09</td>\n",
       "    </tr>\n",
       "    <tr>\n",
       "      <th>Coinbase Wrapped Staked ETH</th>\n",
       "      <td>2.260730e+09</td>\n",
       "      <td>0.254382</td>\n",
       "      <td>-1.876672</td>\n",
       "      <td>NaN</td>\n",
       "    </tr>\n",
       "    <tr>\n",
       "      <th>Rocket Pool</th>\n",
       "      <td>1.856144e+09</td>\n",
       "      <td>0.220902</td>\n",
       "      <td>-2.665735</td>\n",
       "      <td>5.787441e+08</td>\n",
       "    </tr>\n",
       "    <tr>\n",
       "      <th>Frax Ether</th>\n",
       "      <td>4.497888e+08</td>\n",
       "      <td>0.368398</td>\n",
       "      <td>-1.441630</td>\n",
       "      <td>NaN</td>\n",
       "    </tr>\n",
       "    <tr>\n",
       "      <th>StakeWise</th>\n",
       "      <td>1.806842e+08</td>\n",
       "      <td>0.402752</td>\n",
       "      <td>-2.010111</td>\n",
       "      <td>2.619703e+07</td>\n",
       "    </tr>\n",
       "  </tbody>\n",
       "</table>\n",
       "</div>"
      ],
      "text/plain": [
       "                                      tvl  change_1d  change_7d          mcap\n",
       "name                                                                         \n",
       "Lido                         1.473266e+10   0.464218  -1.701088  1.686376e+09\n",
       "Coinbase Wrapped Staked ETH  2.260730e+09   0.254382  -1.876672           NaN\n",
       "Rocket Pool                  1.856144e+09   0.220902  -2.665735  5.787441e+08\n",
       "Frax Ether                   4.497888e+08   0.368398  -1.441630           NaN\n",
       "StakeWise                    1.806842e+08   0.402752  -2.010111  2.619703e+07"
      ]
     },
     "execution_count": 3,
     "metadata": {},
     "output_type": "execute_result"
    }
   ],
   "source": [
    "cond = df.category == 'Liquid Staking' # focus on LSD protocols\n",
    "cols = ['name', 'tvl', 'change_1d', 'change_7d', 'mcap'] # focus on these cols\n",
    "subdf = df.loc[cond, cols].reset_index(drop=True) # drop the original int index\n",
    "subdf.set_index('name', inplace=True) # use name as index\n",
    "subdf.head()"
   ]
  },
  {
   "cell_type": "markdown",
   "metadata": {},
   "source": [
    "### A Light Intro"
   ]
  },
  {
   "cell_type": "code",
   "execution_count": 4,
   "metadata": {},
   "outputs": [
    {
     "data": {
      "text/plain": [
       "tvl           0\n",
       "change_1d    12\n",
       "change_7d    13\n",
       "mcap         80\n",
       "dtype: int64"
      ]
     },
     "execution_count": 4,
     "metadata": {},
     "output_type": "execute_result"
    }
   ],
   "source": [
    "# check how many values are missing in each column\n",
    "subdf.isna().apply('sum', axis=0) # axis=0 means apply the function column wise, i.e., for each col"
   ]
  },
  {
   "cell_type": "code",
   "execution_count": 5,
   "metadata": {},
   "outputs": [
    {
     "data": {
      "text/plain": [
       "tvl           0\n",
       "change_1d    12\n",
       "change_7d    13\n",
       "mcap         80\n",
       "dtype: int64"
      ]
     },
     "execution_count": 5,
     "metadata": {},
     "output_type": "execute_result"
    }
   ],
   "source": [
    "# but please don't write that in practice, do this instead\n",
    "subdf.isna().sum(axis=0)"
   ]
  },
  {
   "cell_type": "markdown",
   "metadata": {},
   "source": [
    "Remark: `sum()` is an aggregation function, and aggregation functions reduce data dimensions. Run `subdf.isna()` and check its output's shape and compare with the shape of the above output. "
   ]
  },
  {
   "cell_type": "code",
   "execution_count": 6,
   "metadata": {},
   "outputs": [
    {
     "data": {
      "text/plain": [
       "tvl          1.473266e+10\n",
       "change_1d    8.810051e+01\n",
       "change_7d    1.457891e+02\n",
       "mcap         1.686376e+09\n",
       "dtype: float64"
      ]
     },
     "execution_count": 6,
     "metadata": {},
     "output_type": "execute_result"
    }
   ],
   "source": [
    "# calculate the range of each col\n",
    "subdf.apply(lambda col: col.max() - col.min()) # axis=0 is the default"
   ]
  },
  {
   "cell_type": "code",
   "execution_count": 7,
   "metadata": {},
   "outputs": [
    {
     "data": {
      "text/plain": [
       "tvl          1.473266e+10\n",
       "change_1d    8.810051e+01\n",
       "change_7d    1.457891e+02\n",
       "mcap         1.686376e+09\n",
       "dtype: float64"
      ]
     },
     "execution_count": 7,
     "metadata": {},
     "output_type": "execute_result"
    }
   ],
   "source": [
    "# in practice, I prefer to write like this \n",
    "subdf.max() - subdf.min()"
   ]
  },
  {
   "cell_type": "code",
   "execution_count": 8,
   "metadata": {},
   "outputs": [
    {
     "data": {
      "text/plain": [
       "tvl                   Lido\n",
       "change_1d    Collectif DAO\n",
       "change_7d    Collectif DAO\n",
       "mcap                  Lido\n",
       "dtype: object"
      ]
     },
     "execution_count": 8,
     "metadata": {},
     "output_type": "execute_result"
    }
   ],
   "source": [
    "# extract protocols with the largest TVL, 1 and 7 day change in TVL, or MCap\n",
    "subdf.apply(lambda col: col.idxmax())"
   ]
  },
  {
   "cell_type": "code",
   "execution_count": 9,
   "metadata": {},
   "outputs": [
    {
     "data": {
      "text/plain": [
       "tvl                   Lido\n",
       "change_1d    Collectif DAO\n",
       "change_7d    Collectif DAO\n",
       "mcap                  Lido\n",
       "dtype: object"
      ]
     },
     "execution_count": 9,
     "metadata": {},
     "output_type": "execute_result"
    }
   ],
   "source": [
    "# once again, please write like this \n",
    "subdf.idxmax()"
   ]
  },
  {
   "cell_type": "code",
   "execution_count": 10,
   "metadata": {},
   "outputs": [
    {
     "name": "stdout",
     "output_type": "stream",
     "text": [
      "365 µs ± 13.3 µs per loop (mean ± std. dev. of 7 runs, 1,000 loops each)\n",
      "701 µs ± 20.9 µs per loop (mean ± std. dev. of 7 runs, 1,000 loops each)\n"
     ]
    }
   ],
   "source": [
    "# because not only it's simpler, it's also faster\n",
    "%timeit subdf.idxmax()\n",
    "%timeit subdf.apply(lambda col: col.idxmax())"
   ]
  },
  {
   "cell_type": "markdown",
   "metadata": {},
   "source": [
    "So far, I've only given simple examples where `apply()` is not needed and it's\n",
    "better to leave it out. I intend to get you familar with the use pattern: apply \n",
    "a function to all columns (or all rows). Let's now see a couple of more involved \n",
    "examples."
   ]
  },
  {
   "cell_type": "code",
   "execution_count": 11,
   "metadata": {},
   "outputs": [
    {
     "data": {
      "text/html": [
       "<div>\n",
       "<style scoped>\n",
       "    .dataframe tbody tr th:only-of-type {\n",
       "        vertical-align: middle;\n",
       "    }\n",
       "\n",
       "    .dataframe tbody tr th {\n",
       "        vertical-align: top;\n",
       "    }\n",
       "\n",
       "    .dataframe thead th {\n",
       "        text-align: right;\n",
       "    }\n",
       "</style>\n",
       "<table border=\"1\" class=\"dataframe\">\n",
       "  <thead>\n",
       "    <tr style=\"text-align: right;\">\n",
       "      <th></th>\n",
       "      <th>tvl</th>\n",
       "      <th>mcap</th>\n",
       "    </tr>\n",
       "    <tr>\n",
       "      <th>name</th>\n",
       "      <th></th>\n",
       "      <th></th>\n",
       "    </tr>\n",
       "  </thead>\n",
       "  <tbody>\n",
       "    <tr>\n",
       "      <th>Lido</th>\n",
       "      <td>500M+</td>\n",
       "      <td>500M+</td>\n",
       "    </tr>\n",
       "    <tr>\n",
       "      <th>Coinbase Wrapped Staked ETH</th>\n",
       "      <td>500M+</td>\n",
       "      <td>500M-</td>\n",
       "    </tr>\n",
       "    <tr>\n",
       "      <th>Rocket Pool</th>\n",
       "      <td>500M+</td>\n",
       "      <td>500M+</td>\n",
       "    </tr>\n",
       "    <tr>\n",
       "      <th>Frax Ether</th>\n",
       "      <td>500M-</td>\n",
       "      <td>500M-</td>\n",
       "    </tr>\n",
       "    <tr>\n",
       "      <th>StakeWise</th>\n",
       "      <td>500M-</td>\n",
       "      <td>500M-</td>\n",
       "    </tr>\n",
       "    <tr>\n",
       "      <th>...</th>\n",
       "      <td>...</td>\n",
       "      <td>...</td>\n",
       "    </tr>\n",
       "    <tr>\n",
       "      <th>Interlay Staking</th>\n",
       "      <td>500M-</td>\n",
       "      <td>500M-</td>\n",
       "    </tr>\n",
       "    <tr>\n",
       "      <th>NUDES</th>\n",
       "      <td>500M-</td>\n",
       "      <td>500M-</td>\n",
       "    </tr>\n",
       "    <tr>\n",
       "      <th>GhostMarket</th>\n",
       "      <td>500M-</td>\n",
       "      <td>500M-</td>\n",
       "    </tr>\n",
       "    <tr>\n",
       "      <th>Bitindi Staking</th>\n",
       "      <td>500M-</td>\n",
       "      <td>500M-</td>\n",
       "    </tr>\n",
       "    <tr>\n",
       "      <th>0xAcid</th>\n",
       "      <td>500M-</td>\n",
       "      <td>500M-</td>\n",
       "    </tr>\n",
       "  </tbody>\n",
       "</table>\n",
       "<p>106 rows × 2 columns</p>\n",
       "</div>"
      ],
      "text/plain": [
       "                               tvl   mcap\n",
       "name                                     \n",
       "Lido                         500M+  500M+\n",
       "Coinbase Wrapped Staked ETH  500M+  500M-\n",
       "Rocket Pool                  500M+  500M+\n",
       "Frax Ether                   500M-  500M-\n",
       "StakeWise                    500M-  500M-\n",
       "...                            ...    ...\n",
       "Interlay Staking             500M-  500M-\n",
       "NUDES                        500M-  500M-\n",
       "GhostMarket                  500M-  500M-\n",
       "Bitindi Staking              500M-  500M-\n",
       "0xAcid                       500M-  500M-\n",
       "\n",
       "[106 rows x 2 columns]"
      ]
     },
     "execution_count": 11,
     "metadata": {},
     "output_type": "execute_result"
    }
   ],
   "source": [
    "# apply the following logic to TVL and Mcap: \n",
    "# if value > 500M, then \"500M+\", else \"500M-\"\n",
    "tvl_mcap_gps = subdf[['tvl', 'mcap']].apply(\n",
    "    # np.where is vectorized, and it applies comparison to entire col\n",
    "    lambda col: np.where(col >= 500*1e6, \"500M+\", \"500M-\")  \n",
    ")\n",
    "tvl_mcap_gps"
   ]
  },
  {
   "cell_type": "code",
   "execution_count": 12,
   "metadata": {},
   "outputs": [],
   "source": [
    "# # uncomment this block and run it to receive an error\n",
    "\n",
    "# subdf[['tvl', 'mcap']].apply(\n",
    "#     # using if-else (instead of np.where) throws an error because if-else is not \n",
    "#     # vectorized and it operates one value (scalar) at a time,\n",
    "#     # to make it work, you'd need to use apply() twice. Don't do it!   \n",
    "#     lambda x: \"500M+\" if x >= 500*1e6 else \"500M-\"\n",
    "# )"
   ]
  },
  {
   "cell_type": "code",
   "execution_count": 13,
   "metadata": {},
   "outputs": [
    {
     "data": {
      "text/html": [
       "<div>\n",
       "<style scoped>\n",
       "    .dataframe tbody tr th:only-of-type {\n",
       "        vertical-align: middle;\n",
       "    }\n",
       "\n",
       "    .dataframe tbody tr th {\n",
       "        vertical-align: top;\n",
       "    }\n",
       "\n",
       "    .dataframe thead th {\n",
       "        text-align: right;\n",
       "    }\n",
       "</style>\n",
       "<table border=\"1\" class=\"dataframe\">\n",
       "  <thead>\n",
       "    <tr style=\"text-align: right;\">\n",
       "      <th></th>\n",
       "      <th>0</th>\n",
       "      <th>1</th>\n",
       "    </tr>\n",
       "  </thead>\n",
       "  <tbody>\n",
       "    <tr>\n",
       "      <th>0</th>\n",
       "      <td>500M+</td>\n",
       "      <td>500M+</td>\n",
       "    </tr>\n",
       "    <tr>\n",
       "      <th>1</th>\n",
       "      <td>500M+</td>\n",
       "      <td>500M-</td>\n",
       "    </tr>\n",
       "    <tr>\n",
       "      <th>2</th>\n",
       "      <td>500M+</td>\n",
       "      <td>500M+</td>\n",
       "    </tr>\n",
       "    <tr>\n",
       "      <th>3</th>\n",
       "      <td>500M-</td>\n",
       "      <td>500M-</td>\n",
       "    </tr>\n",
       "    <tr>\n",
       "      <th>4</th>\n",
       "      <td>500M-</td>\n",
       "      <td>500M-</td>\n",
       "    </tr>\n",
       "    <tr>\n",
       "      <th>...</th>\n",
       "      <td>...</td>\n",
       "      <td>...</td>\n",
       "    </tr>\n",
       "    <tr>\n",
       "      <th>101</th>\n",
       "      <td>500M-</td>\n",
       "      <td>500M-</td>\n",
       "    </tr>\n",
       "    <tr>\n",
       "      <th>102</th>\n",
       "      <td>500M-</td>\n",
       "      <td>500M-</td>\n",
       "    </tr>\n",
       "    <tr>\n",
       "      <th>103</th>\n",
       "      <td>500M-</td>\n",
       "      <td>500M-</td>\n",
       "    </tr>\n",
       "    <tr>\n",
       "      <th>104</th>\n",
       "      <td>500M-</td>\n",
       "      <td>500M-</td>\n",
       "    </tr>\n",
       "    <tr>\n",
       "      <th>105</th>\n",
       "      <td>500M-</td>\n",
       "      <td>500M-</td>\n",
       "    </tr>\n",
       "  </tbody>\n",
       "</table>\n",
       "<p>106 rows × 2 columns</p>\n",
       "</div>"
      ],
      "text/plain": [
       "         0      1\n",
       "0    500M+  500M+\n",
       "1    500M+  500M-\n",
       "2    500M+  500M+\n",
       "3    500M-  500M-\n",
       "4    500M-  500M-\n",
       "..     ...    ...\n",
       "101  500M-  500M-\n",
       "102  500M-  500M-\n",
       "103  500M-  500M-\n",
       "104  500M-  500M-\n",
       "105  500M-  500M-\n",
       "\n",
       "[106 rows x 2 columns]"
      ]
     },
     "execution_count": 13,
     "metadata": {},
     "output_type": "execute_result"
    }
   ],
   "source": [
    "# you can also do it with vectorization but you lose the header and index\n",
    "def bin_var(col): \n",
    "    return np.where(col >= 500*1e6, \"500M+\", \"500M-\")  \n",
    "pd.DataFrame(bin_var(subdf[['tvl', 'mcap']]))"
   ]
  },
  {
   "cell_type": "code",
   "execution_count": 14,
   "metadata": {},
   "outputs": [
    {
     "data": {
      "text/html": [
       "<div>\n",
       "<style scoped>\n",
       "    .dataframe tbody tr th:only-of-type {\n",
       "        vertical-align: middle;\n",
       "    }\n",
       "\n",
       "    .dataframe tbody tr th {\n",
       "        vertical-align: top;\n",
       "    }\n",
       "\n",
       "    .dataframe thead th {\n",
       "        text-align: right;\n",
       "    }\n",
       "</style>\n",
       "<table border=\"1\" class=\"dataframe\">\n",
       "  <thead>\n",
       "    <tr style=\"text-align: right;\">\n",
       "      <th></th>\n",
       "      <th>change_1d</th>\n",
       "      <th>change_7d</th>\n",
       "    </tr>\n",
       "    <tr>\n",
       "      <th>name</th>\n",
       "      <th></th>\n",
       "      <th></th>\n",
       "    </tr>\n",
       "  </thead>\n",
       "  <tbody>\n",
       "    <tr>\n",
       "      <th>Lido</th>\n",
       "      <td>jump</td>\n",
       "      <td>big drop</td>\n",
       "    </tr>\n",
       "    <tr>\n",
       "      <th>Coinbase Wrapped Staked ETH</th>\n",
       "      <td>jump</td>\n",
       "      <td>big drop</td>\n",
       "    </tr>\n",
       "    <tr>\n",
       "      <th>Rocket Pool</th>\n",
       "      <td>jump</td>\n",
       "      <td>big drop</td>\n",
       "    </tr>\n",
       "    <tr>\n",
       "      <th>Frax Ether</th>\n",
       "      <td>jump</td>\n",
       "      <td>big drop</td>\n",
       "    </tr>\n",
       "    <tr>\n",
       "      <th>StakeWise</th>\n",
       "      <td>jump</td>\n",
       "      <td>big drop</td>\n",
       "    </tr>\n",
       "    <tr>\n",
       "      <th>...</th>\n",
       "      <td>...</td>\n",
       "      <td>...</td>\n",
       "    </tr>\n",
       "    <tr>\n",
       "      <th>Interlay Staking</th>\n",
       "      <td>NaN</td>\n",
       "      <td>NaN</td>\n",
       "    </tr>\n",
       "    <tr>\n",
       "      <th>NUDES</th>\n",
       "      <td>NaN</td>\n",
       "      <td>NaN</td>\n",
       "    </tr>\n",
       "    <tr>\n",
       "      <th>GhostMarket</th>\n",
       "      <td>NaN</td>\n",
       "      <td>NaN</td>\n",
       "    </tr>\n",
       "    <tr>\n",
       "      <th>Bitindi Staking</th>\n",
       "      <td>NaN</td>\n",
       "      <td>NaN</td>\n",
       "    </tr>\n",
       "    <tr>\n",
       "      <th>0xAcid</th>\n",
       "      <td>NaN</td>\n",
       "      <td>NaN</td>\n",
       "    </tr>\n",
       "  </tbody>\n",
       "</table>\n",
       "<p>106 rows × 2 columns</p>\n",
       "</div>"
      ],
      "text/plain": [
       "                            change_1d change_7d\n",
       "name                                           \n",
       "Lido                             jump  big drop\n",
       "Coinbase Wrapped Staked ETH      jump  big drop\n",
       "Rocket Pool                      jump  big drop\n",
       "Frax Ether                       jump  big drop\n",
       "StakeWise                        jump  big drop\n",
       "...                               ...       ...\n",
       "Interlay Staking                  NaN       NaN\n",
       "NUDES                             NaN       NaN\n",
       "GhostMarket                       NaN       NaN\n",
       "Bitindi Staking                   NaN       NaN\n",
       "0xAcid                            NaN       NaN\n",
       "\n",
       "[106 rows x 2 columns]"
      ]
     },
     "execution_count": 14,
     "metadata": {},
     "output_type": "execute_result"
    }
   ],
   "source": [
    "# apply the following logic to 1d and 7d changes: \n",
    "#   delta > 50% => \"big jump\",\n",
    "#   delta > 0 and <= 50% => \"jump\",\n",
    "#   delta > -50% and <= 0 => 'drop\"\n",
    "#   delta <= -50% => 'big drop\"\n",
    "\n",
    "# translate the logic into bins and bin labels cuz we'll use pd.cut()\n",
    "# by default, the resulting bins include the right edge not the left one\n",
    "bins = [-np.inf, -.5, 0, .5, np.inf]\n",
    "labs = ['big drop', 'drop', 'jump', 'big jump']\n",
    "tvl_delta_gps = subdf[['change_1d', 'change_7d']].apply(\n",
    "    lambda col: pd.cut(col, bins=bins, labels=labs)\n",
    ")\n",
    "tvl_delta_gps"
   ]
  },
  {
   "cell_type": "code",
   "execution_count": 15,
   "metadata": {},
   "outputs": [],
   "source": [
    "# # try to do it naively and hope vectorization works. Oops, error!\n",
    "# pd.cut(subdf[['change_1d', 'change_7d']], bins=bins, labels=labs)"
   ]
  },
  {
   "cell_type": "markdown",
   "metadata": {},
   "source": [
    "### `groupby()` and `apply()`\n",
    "\n",
    "It is very common to use `apply()` on a group of DataFrames. So you'll write a \n",
    "lot of `groupby()`s followed by `apply()`, especially when applying your custom\n",
    "functions. And most of the time, the function you apply to each group is a \n",
    "reducing function (i.e., reduces data dimension), for example, an aggregation \n",
    "function such as `mean()` is a reducing function, taking the first element of \n",
    "an array is also a reducing function although it aggregates nothing. "
   ]
  },
  {
   "cell_type": "code",
   "execution_count": 16,
   "metadata": {},
   "outputs": [
    {
     "data": {
      "text/html": [
       "<div>\n",
       "<style scoped>\n",
       "    .dataframe tbody tr th:only-of-type {\n",
       "        vertical-align: middle;\n",
       "    }\n",
       "\n",
       "    .dataframe tbody tr th {\n",
       "        vertical-align: top;\n",
       "    }\n",
       "\n",
       "    .dataframe thead th {\n",
       "        text-align: right;\n",
       "    }\n",
       "</style>\n",
       "<table border=\"1\" class=\"dataframe\">\n",
       "  <thead>\n",
       "    <tr style=\"text-align: right;\">\n",
       "      <th></th>\n",
       "      <th>tvl</th>\n",
       "      <th>change_1d</th>\n",
       "      <th>change_7d</th>\n",
       "      <th>mcap</th>\n",
       "    </tr>\n",
       "    <tr>\n",
       "      <th>change_1d</th>\n",
       "      <th></th>\n",
       "      <th></th>\n",
       "      <th></th>\n",
       "      <th></th>\n",
       "    </tr>\n",
       "  </thead>\n",
       "  <tbody>\n",
       "    <tr>\n",
       "      <th>big drop</th>\n",
       "      <td>Stader</td>\n",
       "      <td>Tenderize</td>\n",
       "      <td>Filet Finance</td>\n",
       "      <td>Stride</td>\n",
       "    </tr>\n",
       "    <tr>\n",
       "      <th>drop</th>\n",
       "      <td>Marinade Finance</td>\n",
       "      <td>Marinade Finance</td>\n",
       "      <td>sICX</td>\n",
       "      <td>Stafi</td>\n",
       "    </tr>\n",
       "    <tr>\n",
       "      <th>jump</th>\n",
       "      <td>Lido</td>\n",
       "      <td>Ankr</td>\n",
       "      <td>SFT Protocol</td>\n",
       "      <td>Lido</td>\n",
       "    </tr>\n",
       "    <tr>\n",
       "      <th>big jump</th>\n",
       "      <td>Benqi Staked Avax</td>\n",
       "      <td>Collectif DAO</td>\n",
       "      <td>Collectif DAO</td>\n",
       "      <td>Veno Finance</td>\n",
       "    </tr>\n",
       "  </tbody>\n",
       "</table>\n",
       "</div>"
      ],
      "text/plain": [
       "                         tvl         change_1d      change_7d          mcap\n",
       "change_1d                                                                  \n",
       "big drop              Stader         Tenderize  Filet Finance        Stride\n",
       "drop        Marinade Finance  Marinade Finance           sICX         Stafi\n",
       "jump                    Lido              Ankr   SFT Protocol          Lido\n",
       "big jump   Benqi Staked Avax     Collectif DAO  Collectif DAO  Veno Finance"
      ]
     },
     "execution_count": 16,
     "metadata": {},
     "output_type": "execute_result"
    }
   ],
   "source": [
    "# group by 1d change levels ('big drop', 'drop', 'jump', 'big jump') and \n",
    "# find the protocol with the max TVL, 1d or 7d TVL change, or Mcap for each level\n",
    "subdf.groupby(tvl_delta_gps['change_1d'])\\\n",
    "    .apply(lambda da: da.idxmax()) # think of this syntax as iterating over \n",
    "    # each group and appling the lambda function column-wise to the chunk of \n",
    "    # data (a data frame) in that group."
   ]
  },
  {
   "cell_type": "markdown",
   "metadata": {},
   "source": [
    "Among all protocols with a big (-50% or more) TVL drop in one day, Stride has the largest TVL and Mcap, \n",
    "IFPool has the largest single day drop in TVL, and ClayStack has the largest 7d drop in TVL.\n",
    "\n",
    "Among all protocols with a big (50% or more) TVL jump in one day, Coinbase staked ETH has the largest TVL,\n",
    "Ankr has the largest Mcap, Neopin has the largest 1d increase in TVL and xALGO has the largest 7d increase."
   ]
  },
  {
   "cell_type": "code",
   "execution_count": 17,
   "metadata": {},
   "outputs": [
    {
     "data": {
      "text/plain": [
       "mcap\n",
       "500M+   -6.373806\n",
       "500M-   -2.195599\n",
       "dtype: float64"
      ]
     },
     "execution_count": 17,
     "metadata": {},
     "output_type": "execute_result"
    }
   ],
   "source": [
    "# group by mcap levels (500M-, 500M+) and \n",
    "# calculate the ratio between the avg 7d tvl change and the avg 1d tvl change\n",
    "subdf.groupby(tvl_mcap_gps['mcap'])\\\n",
    "    .apply(lambda da: da['change_7d'].mean() / da['change_1d'].mean())"
   ]
  },
  {
   "cell_type": "code",
   "execution_count": 18,
   "metadata": {},
   "outputs": [
    {
     "data": {
      "text/plain": [
       "mcap\n",
       "500M+   -6.373806\n",
       "500M-   -2.195599\n",
       "dtype: float64"
      ]
     },
     "execution_count": 18,
     "metadata": {},
     "output_type": "execute_result"
    }
   ],
   "source": [
    "# you can also do it this way\n",
    "(subdf.groupby(tvl_mcap_gps['mcap'])['change_7d'].mean() / \n",
    " subdf.groupby(tvl_mcap_gps['mcap'])['change_1d'].mean())"
   ]
  },
  {
   "cell_type": "code",
   "execution_count": 19,
   "metadata": {},
   "outputs": [
    {
     "name": "stdout",
     "output_type": "stream",
     "text": [
      "1.97 ms ± 172 µs per loop (mean ± std. dev. of 7 runs, 100 loops each)\n",
      "3.81 ms ± 1.3 ms per loop (mean ± std. dev. of 7 runs, 100 loops each)\n"
     ]
    }
   ],
   "source": [
    "# which is faster?\n",
    "%timeit subdf.groupby(tvl_mcap_gps['mcap']).apply(lambda da: da['change_7d'].mean() / da['change_1d'].mean())\n",
    "%timeit subdf.groupby(tvl_mcap_gps['mcap'])['change_7d'].mean() / subdf.groupby(tvl_mcap_gps['mcap'])['change_1d'].mean()"
   ]
  },
  {
   "cell_type": "markdown",
   "metadata": {},
   "source": [
    "Let's see some non-trivial examples where we'll apply string operations column wise to a grouped data frame. \n",
    "Let's first download liquidity pools' yield data from DefiLlama."
   ]
  },
  {
   "cell_type": "code",
   "execution_count": 20,
   "metadata": {},
   "outputs": [
    {
     "data": {
      "text/html": [
       "<div>\n",
       "<style scoped>\n",
       "    .dataframe tbody tr th:only-of-type {\n",
       "        vertical-align: middle;\n",
       "    }\n",
       "\n",
       "    .dataframe tbody tr th {\n",
       "        vertical-align: top;\n",
       "    }\n",
       "\n",
       "    .dataframe thead th {\n",
       "        text-align: right;\n",
       "    }\n",
       "</style>\n",
       "<table border=\"1\" class=\"dataframe\">\n",
       "  <thead>\n",
       "    <tr style=\"text-align: right;\">\n",
       "      <th></th>\n",
       "      <th>chain</th>\n",
       "      <th>project</th>\n",
       "      <th>symbol</th>\n",
       "      <th>stablecoin</th>\n",
       "      <th>tvlUsd</th>\n",
       "      <th>apyPct7D</th>\n",
       "      <th>outlier</th>\n",
       "    </tr>\n",
       "  </thead>\n",
       "  <tbody>\n",
       "    <tr>\n",
       "      <th>0</th>\n",
       "      <td>Ethereum</td>\n",
       "      <td>lido</td>\n",
       "      <td>STETH</td>\n",
       "      <td>False</td>\n",
       "      <td>14577608773</td>\n",
       "      <td>0.20000</td>\n",
       "      <td>False</td>\n",
       "    </tr>\n",
       "    <tr>\n",
       "      <th>1</th>\n",
       "      <td>Arbitrum</td>\n",
       "      <td>camelot-v2</td>\n",
       "      <td>BRUH-USDC</td>\n",
       "      <td>False</td>\n",
       "      <td>3055925878</td>\n",
       "      <td>0.00000</td>\n",
       "      <td>False</td>\n",
       "    </tr>\n",
       "    <tr>\n",
       "      <th>2</th>\n",
       "      <td>Arbitrum</td>\n",
       "      <td>camelot-v2</td>\n",
       "      <td>RDO-USDC</td>\n",
       "      <td>False</td>\n",
       "      <td>2995936715</td>\n",
       "      <td>0.00000</td>\n",
       "      <td>True</td>\n",
       "    </tr>\n",
       "    <tr>\n",
       "      <th>3</th>\n",
       "      <td>Tron</td>\n",
       "      <td>justlend</td>\n",
       "      <td>BTC</td>\n",
       "      <td>False</td>\n",
       "      <td>2970582736</td>\n",
       "      <td>0.00045</td>\n",
       "      <td>False</td>\n",
       "    </tr>\n",
       "    <tr>\n",
       "      <th>4</th>\n",
       "      <td>Ethereum</td>\n",
       "      <td>coinbase-wrapped-staked-eth</td>\n",
       "      <td>CBETH</td>\n",
       "      <td>False</td>\n",
       "      <td>2170167164</td>\n",
       "      <td>0.20627</td>\n",
       "      <td>False</td>\n",
       "    </tr>\n",
       "  </tbody>\n",
       "</table>\n",
       "</div>"
      ],
      "text/plain": [
       "      chain                      project     symbol  stablecoin       tvlUsd  \\\n",
       "0  Ethereum                         lido      STETH       False  14577608773   \n",
       "1  Arbitrum                   camelot-v2  BRUH-USDC       False   3055925878   \n",
       "2  Arbitrum                   camelot-v2   RDO-USDC       False   2995936715   \n",
       "3      Tron                     justlend        BTC       False   2970582736   \n",
       "4  Ethereum  coinbase-wrapped-staked-eth      CBETH       False   2170167164   \n",
       "\n",
       "   apyPct7D  outlier  \n",
       "0   0.20000    False  \n",
       "1   0.00000    False  \n",
       "2   0.00000     True  \n",
       "3   0.00045    False  \n",
       "4   0.20627    False  "
      ]
     },
     "execution_count": 20,
     "metadata": {},
     "output_type": "execute_result"
    }
   ],
   "source": [
    "da = obj.get_pools_yields()\n",
    "\n",
    "# only pick these cols\n",
    "cols = ['chain', 'project', 'symbol', 'stablecoin', 'tvlUsd', 'apyPct7D', 'outlier']\n",
    "da = da[cols]\n",
    "da.head()"
   ]
  },
  {
   "cell_type": "markdown",
   "metadata": {},
   "source": [
    "We can then use `groupby()` + `apply()` to find which chains have the most ETH related yield opportunities."
   ]
  },
  {
   "cell_type": "code",
   "execution_count": 21,
   "metadata": {},
   "outputs": [
    {
     "data": {
      "text/plain": [
       "chain\n",
       "Ethereum         2584\n",
       "Arbitrum          991\n",
       "Polygon           394\n",
       "Optimism          231\n",
       "BSC               142\n",
       "Avalanche          43\n",
       "Fantom             33\n",
       "Solana             18\n",
       "Gnosis             15\n",
       "Polygon zkEVM      14\n",
       "Name: symbol, dtype: int64"
      ]
     },
     "execution_count": 21,
     "metadata": {},
     "output_type": "execute_result"
    }
   ],
   "source": [
    "# find top 10 chains with the most ETH related yield opportunities\n",
    "da.groupby('chain', sort=False)['symbol']\\\n",
    "    .apply(lambda ser: ser.str.contains('ETH').sum()\n",
    ").nlargest(10)"
   ]
  },
  {
   "cell_type": "markdown",
   "metadata": {},
   "source": [
    "To see what's going on, let's break things down. The `groupby()` function groups \n",
    "the records and results in a data frame for each \"chain\". The `[symbol]` operation \n",
    "extracts the \"symbol\" column and returns it as a series. The lambda function first \n",
    "checks if each value of the series contains the word 'ETH' and then sum them up \n",
    "to get a count. Finally, the `apply()` function applies the lambda function to \n",
    "each column, and we only have 1 column here, the 'symbol' column. Let's apply \n",
    "the string operation manually to the first data frame in the group."
   ]
  },
  {
   "cell_type": "code",
   "execution_count": 22,
   "metadata": {},
   "outputs": [
    {
     "name": "stdout",
     "output_type": "stream",
     "text": [
      "Ethereum\n",
      "0     STETH\n",
      "4     CBETH\n",
      "6     STETH\n",
      "7      RETH\n",
      "8    WSTETH\n",
      "Name: symbol, dtype: object\n"
     ]
    }
   ],
   "source": [
    "# groups are sorted ascendingly by default, we turn it off here by setting\n",
    "# `sort=False` inside groupby()\n",
    "chain, ser = next(iter(da.groupby('chain', sort=False)['symbol'])) \n",
    "print(chain)\n",
    "print(ser.head())\n"
   ]
  },
  {
   "cell_type": "code",
   "execution_count": 23,
   "metadata": {},
   "outputs": [
    {
     "data": {
      "text/plain": [
       "2584"
      ]
     },
     "execution_count": 23,
     "metadata": {},
     "output_type": "execute_result"
    }
   ],
   "source": [
    "ser.str.contains('ETH').sum()"
   ]
  },
  {
   "cell_type": "markdown",
   "metadata": {},
   "source": [
    "We see ETH mainnet has more than 2500 yield opportunities in ETH-related assets. The above approach is good but there's a faster way. We can first check if the 'symbol' column contains the word 'ETH' in one-go because `ser.str.contains()` is vectorized and then use `groupby()`. "
   ]
  },
  {
   "cell_type": "code",
   "execution_count": 24,
   "metadata": {},
   "outputs": [
    {
     "data": {
      "text/plain": [
       "chain\n",
       "Ethereum         2584\n",
       "Arbitrum          991\n",
       "Polygon           394\n",
       "Optimism          231\n",
       "BSC               142\n",
       "Avalanche          43\n",
       "Fantom             33\n",
       "Solana             18\n",
       "Gnosis             15\n",
       "Polygon zkEVM      14\n",
       "Name: symbol, dtype: uint32"
      ]
     },
     "execution_count": 24,
     "metadata": {},
     "output_type": "execute_result"
    }
   ],
   "source": [
    "# this approach is faster cuz it leverages vectorization\n",
    "is_eth_related = da['symbol'].str.contains('ETH') # a bool series of True and False\n",
    "is_eth_related.groupby(da['chain'], sort=False)\\\n",
    "    .sum()\\\n",
    "    .nlargest(10)\\\n",
    "    .astype(np.uintc) # cast to unsigned int to make it compact"
   ]
  },
  {
   "cell_type": "markdown",
   "metadata": {},
   "source": [
    "### Summary\n",
    "\n",
    "This notebook aims to demonstrate the most common use pattern of `apply()`: \n",
    "\n",
    "*Apply a reducing function either column-wise (i.e., for every column and cross \n",
    "all rows, `axis=0`) or row-wise (i.e., for every row and cross all columns, `axis=1`) \n",
    "on a DataFrame or a group of DataFrames.*\n",
    "\n",
    "I believe mastery of this pattern allows you to handle 80% of data analysis \n",
    "projects you do. I did not give examples of using `apply()` row-wise (`axis=1`), \n",
    "can you come up with such examples? \n",
    "\n",
    "\n",
    "### Good Read\n",
    "\n",
    "- You can get defi data easily using [defillama2](https://github.com/coindataschool/defillama2). \n",
    "- [`apply()` basics from the official doc](https://pandas.pydata.org/pandas-docs/stable/user_guide/basics.html#row-or-column-wise-function-application).\n",
    "- [realpython tutorial: pandas groupby](https://realpython.com/pandas-groupby/).\n",
    "\n",
    "### Referral\n",
    "\n",
    "- Digital Ocean is a cloud computing platform where you can rent remote servers for cheap. \n",
    "  I have my remote data science server there. You can do the same and [get $200 credit](https://m.do.co/c/0a435cb96813). "
   ]
  },
  {
   "cell_type": "markdown",
   "metadata": {},
   "source": []
  }
 ],
 "metadata": {
  "kernelspec": {
   "display_name": "Python 3 (ipykernel)",
   "language": "python",
   "name": "python3"
  },
  "language_info": {
   "codemirror_mode": {
    "name": "ipython",
    "version": 3
   },
   "file_extension": ".py",
   "mimetype": "text/x-python",
   "name": "python",
   "nbconvert_exporter": "python",
   "pygments_lexer": "ipython3",
   "version": "3.10.8"
  }
 },
 "nbformat": 4,
 "nbformat_minor": 4
}
