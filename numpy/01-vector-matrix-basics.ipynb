{
 "cells": [
  {
   "attachments": {},
   "cell_type": "markdown",
   "metadata": {},
   "source": [
    "## Vector and Matrix Basics\n",
    "\n",
    "This notebook demonstrates the following in numpy:\n",
    "\n",
    "- how to create and reshape vectors and matrices, and\n",
    "- how to operate on vectors and matrices, with broadcasting and vectorization under the hood.\n",
    "\n",
    "Knowing these by heart allows you to correctly write deep learning code in Keras, \n",
    "TensorFlow, and Pytorch. "
   ]
  },
  {
   "cell_type": "code",
   "execution_count": 107,
   "metadata": {},
   "outputs": [],
   "source": [
    "import numpy as np"
   ]
  },
  {
   "cell_type": "markdown",
   "metadata": {},
   "source": [
    "### Vector and Matrix Creation"
   ]
  },
  {
   "cell_type": "code",
   "execution_count": 108,
   "metadata": {},
   "outputs": [
    {
     "name": "stdout",
     "output_type": "stream",
     "text": [
      "[1 2 3]\n",
      "dimension: (3,)\n"
     ]
    }
   ],
   "source": [
    "# create a 1D array of 3 numbers\n",
    "v = np.array([1, 2, 3])\n",
    "print(v)\n",
    "print(f'dimension: {v.shape}' )"
   ]
  },
  {
   "cell_type": "code",
   "execution_count": 109,
   "metadata": {},
   "outputs": [
    {
     "name": "stdout",
     "output_type": "stream",
     "text": [
      "[[1 2 3]]\n",
      "dimension: (1, 3)\n"
     ]
    }
   ],
   "source": [
    "# create a row vector of 3 elements, i.e., a 2D array of dimension 1 x 3\n",
    "v = np.array([[1, 2, 3]])\n",
    "print(v)\n",
    "print(f'dimension: {v.shape}' )"
   ]
  },
  {
   "cell_type": "code",
   "execution_count": 110,
   "metadata": {},
   "outputs": [
    {
     "name": "stdout",
     "output_type": "stream",
     "text": [
      "[[1]\n",
      " [2]\n",
      " [3]]\n",
      "dimension: (3, 1)\n"
     ]
    }
   ],
   "source": [
    "# create a column vector of 3 elements, i.e., a 2D array of dimension 3 x 1\n",
    "v = np.array([[1], [2], [3]])\n",
    "print(v)\n",
    "print(f'dimension: {v.shape}' )"
   ]
  },
  {
   "cell_type": "code",
   "execution_count": 111,
   "metadata": {},
   "outputs": [
    {
     "data": {
      "text/plain": [
       "array([[1., 0., 0., 0.],\n",
       "       [0., 1., 0., 0.],\n",
       "       [0., 0., 1., 0.],\n",
       "       [0., 0., 0., 1.]])"
      ]
     },
     "execution_count": 111,
     "metadata": {},
     "output_type": "execute_result"
    }
   ],
   "source": [
    "# create a 4x4 identity matrix \n",
    "np.eye(4)"
   ]
  },
  {
   "cell_type": "code",
   "execution_count": 112,
   "metadata": {},
   "outputs": [
    {
     "name": "stdout",
     "output_type": "stream",
     "text": [
      "[0. 0. 0.]\n",
      "dimension: (3,)\n"
     ]
    }
   ],
   "source": [
    "# create a 1D array of 3 zeros\n",
    "v = np.zeros(3)\n",
    "print(v)\n",
    "print(f'dimension: {v.shape}' )"
   ]
  },
  {
   "cell_type": "code",
   "execution_count": 113,
   "metadata": {},
   "outputs": [
    {
     "name": "stdout",
     "output_type": "stream",
     "text": [
      "[[0. 0. 0.]]\n",
      "dimension: (1, 3)\n"
     ]
    }
   ],
   "source": [
    "# create a row vector of 3 zeros\n",
    "v = np.zeros((1,3))\n",
    "print(v)\n",
    "print(f'dimension: {v.shape}' )"
   ]
  },
  {
   "cell_type": "code",
   "execution_count": 114,
   "metadata": {},
   "outputs": [
    {
     "name": "stdout",
     "output_type": "stream",
     "text": [
      "[[0.]\n",
      " [0.]\n",
      " [0.]]\n",
      "dimension: (3, 1)\n"
     ]
    }
   ],
   "source": [
    "# create a col vector of 3 zeros\n",
    "v = np.zeros((3, 1))\n",
    "print(v)\n",
    "print(f'dimension: {v.shape}' )"
   ]
  },
  {
   "cell_type": "code",
   "execution_count": 115,
   "metadata": {},
   "outputs": [
    {
     "name": "stdout",
     "output_type": "stream",
     "text": [
      "[[0. 0. 0.]\n",
      " [0. 0. 0.]]\n",
      "dimension: (2, 3)\n"
     ]
    }
   ],
   "source": [
    "# create a 2x3 matrix of 6 zeros\n",
    "v = np.zeros((2, 3))\n",
    "print(v)\n",
    "print(f'dimension: {v.shape}' )"
   ]
  },
  {
   "cell_type": "markdown",
   "metadata": {},
   "source": [
    "### Vector and Matrix Reshaping"
   ]
  },
  {
   "cell_type": "code",
   "execution_count": 116,
   "metadata": {},
   "outputs": [
    {
     "name": "stdout",
     "output_type": "stream",
     "text": [
      "1d array [1 2 3 4 5 6] has dimension (6,)\n"
     ]
    }
   ],
   "source": [
    "# create a 1D array of 6 elements\n",
    "v1d = np.array([1, 2, 3, 4, 5, 6])\n",
    "print(f\"1d array {v1d} has dimension {v1d.shape}\")"
   ]
  },
  {
   "cell_type": "code",
   "execution_count": 117,
   "metadata": {},
   "outputs": [
    {
     "name": "stdout",
     "output_type": "stream",
     "text": [
      "row vector [[1 2 3 4 5 6]] has dimension (1, 6)\n"
     ]
    }
   ],
   "source": [
    "# reshape to a row vector\n",
    "row_vec = v1d.reshape(1, -1)\n",
    "# v1d.reshape(1, -1): \n",
    "#   1 means the 1st dimension is 1 \n",
    "#  -1 means the 2nd dimension is len(v1d) / 1st dimension = 6 / 1 = 6\n",
    "print(f'row vector {row_vec} has dimension {row_vec.shape}')"
   ]
  },
  {
   "cell_type": "code",
   "execution_count": 118,
   "metadata": {},
   "outputs": [
    {
     "name": "stdout",
     "output_type": "stream",
     "text": [
      "column vector\n",
      "[[1]\n",
      " [2]\n",
      " [3]\n",
      " [4]\n",
      " [5]\n",
      " [6]]\n",
      "has dimension (6, 1)\n"
     ]
    }
   ],
   "source": [
    "# reshape to a col vector\n",
    "col_vec = v1d.reshape(-1, 1)\n",
    "# v1d.reshape(-1, 1):\n",
    "#   1 means the 2nd dimension is 1\n",
    "#  -1 means the 1st dimension is len(v1d) / 2nd dimension = 6 / 1 = 6\n",
    "print(f'column vector\\n{col_vec}\\nhas dimension {col_vec.shape}')"
   ]
  },
  {
   "cell_type": "code",
   "execution_count": 119,
   "metadata": {},
   "outputs": [
    {
     "name": "stdout",
     "output_type": "stream",
     "text": [
      "matrix\n",
      "[[1 2]\n",
      " [3 4]\n",
      " [5 6]]\n",
      "has dimension (3, 2)\n"
     ]
    }
   ],
   "source": [
    "# reshape to a 3 x 2 matrix\n",
    "mat = v1d.reshape(3, -1)\n",
    "# v1d.reshape(3, -1):\n",
    "#   3 means the 1st dimension is 3\n",
    "#  -1 means the 2nd dimension is len(v1d) / 1st dimension = 6 / 3 = 2\n",
    "print(f\"matrix\\n{mat}\\nhas dimension {mat.shape}\")"
   ]
  },
  {
   "cell_type": "code",
   "execution_count": 120,
   "metadata": {},
   "outputs": [
    {
     "name": "stdout",
     "output_type": "stream",
     "text": [
      "[[0 0]\n",
      " [0 0]\n",
      " [0 0]]\n"
     ]
    }
   ],
   "source": [
    "# create a matrix of zeros with the same dimension as mat\n",
    "print(np.zeros_like(mat))"
   ]
  },
  {
   "cell_type": "code",
   "execution_count": 121,
   "metadata": {},
   "outputs": [
    {
     "name": "stdout",
     "output_type": "stream",
     "text": [
      "[[1 3 5]\n",
      " [2 4 6]]\n"
     ]
    }
   ],
   "source": [
    "# find the transpose of mat\n",
    "print(mat.T)"
   ]
  },
  {
   "cell_type": "markdown",
   "metadata": {},
   "source": [
    "### Vector and Matrix Operations"
   ]
  },
  {
   "cell_type": "code",
   "execution_count": 122,
   "metadata": {},
   "outputs": [
    {
     "name": "stdout",
     "output_type": "stream",
     "text": [
      "[4 5 6] with dimension (3,)\n"
     ]
    }
   ],
   "source": [
    "# 1d array + scala\n",
    "# broadcasting allows addition of the scala to each vector element\n",
    "v = np.array([1,2,3])\n",
    "res = v + 3\n",
    "print(res, f\"with dimension {res.shape}\")"
   ]
  },
  {
   "cell_type": "code",
   "execution_count": 123,
   "metadata": {},
   "outputs": [
    {
     "name": "stdout",
     "output_type": "stream",
     "text": [
      "[[4 5 6]] with dimension (1, 3)\n"
     ]
    }
   ],
   "source": [
    "# row vector + scala\n",
    "v = np.array([1,2,3]).reshape(1, -1)\n",
    "res = v + 3\n",
    "print(res, f\"with dimension {res.shape}\")"
   ]
  },
  {
   "cell_type": "code",
   "execution_count": 124,
   "metadata": {},
   "outputs": [
    {
     "name": "stdout",
     "output_type": "stream",
     "text": [
      "[[4]\n",
      " [5]\n",
      " [6]] \n",
      "with dimension (3, 1)\n"
     ]
    }
   ],
   "source": [
    "# col vector + scala\n",
    "v = np.array([1,2,3]).reshape(-1, 1)\n",
    "res = v + 3\n",
    "print(res, f\"\\nwith dimension {res.shape}\")"
   ]
  },
  {
   "cell_type": "code",
   "execution_count": 125,
   "metadata": {},
   "outputs": [
    {
     "name": "stdout",
     "output_type": "stream",
     "text": [
      "[[5 6]\n",
      " [6 7]] \n",
      "with dimension (2, 2)\n"
     ]
    }
   ],
   "source": [
    "# row vector + col vector = matrix \n",
    "row_vec = np.array([1,2]).reshape(1, -1)\n",
    "col_vec = np.array([4,5]).reshape(-1, 1)\n",
    "res = row_vec + col_vec\n",
    "# 1. broadcasting expands the row and col vectors to matrices of the same dimension \n",
    "#    [[1, 2]]         [[4, 4]]\n",
    "#    [[1, 2]]         [[5, 5]]\n",
    "# 2. performs element-wise addition \n",
    "#   [[5, 6]]\n",
    "#   [[6, 7]]\n",
    "print(res, f\"\\nwith dimension {res.shape}\")"
   ]
  },
  {
   "cell_type": "code",
   "execution_count": 126,
   "metadata": {},
   "outputs": [
    {
     "data": {
      "text/plain": [
       "32"
      ]
     },
     "execution_count": 126,
     "metadata": {},
     "output_type": "execute_result"
    }
   ],
   "source": [
    "# dot product of 1D-arrays\n",
    "v1 = np.array([1, 2, 3])\n",
    "v2 = np.array([4, 5, 6])\n",
    "np.dot(v1, v2)"
   ]
  },
  {
   "cell_type": "code",
   "execution_count": 127,
   "metadata": {},
   "outputs": [
    {
     "ename": "ValueError",
     "evalue": "shapes (1,3) and (1,3) not aligned: 3 (dim 1) != 1 (dim 0)",
     "output_type": "error",
     "traceback": [
      "\u001b[0;31m---------------------------------------------------------------------------\u001b[0m",
      "\u001b[0;31mValueError\u001b[0m                                Traceback (most recent call last)",
      "\u001b[1;32m/Users/gmlang/CoinDataSchool/pytips/numpy/01-vector-matrix-basics.ipynb Cell 25\u001b[0m line \u001b[0;36m4\n\u001b[1;32m      <a href='vscode-notebook-cell:/Users/gmlang/CoinDataSchool/pytips/numpy/01-vector-matrix-basics.ipynb#X30sZmlsZQ%3D%3D?line=1'>2</a>\u001b[0m row_v1 \u001b[39m=\u001b[39m np\u001b[39m.\u001b[39marray([[\u001b[39m1\u001b[39m, \u001b[39m2\u001b[39m, \u001b[39m3\u001b[39m]])\n\u001b[1;32m      <a href='vscode-notebook-cell:/Users/gmlang/CoinDataSchool/pytips/numpy/01-vector-matrix-basics.ipynb#X30sZmlsZQ%3D%3D?line=2'>3</a>\u001b[0m row_v2 \u001b[39m=\u001b[39m np\u001b[39m.\u001b[39marray([[\u001b[39m4\u001b[39m, \u001b[39m5\u001b[39m, \u001b[39m6\u001b[39m]])\n\u001b[0;32m----> <a href='vscode-notebook-cell:/Users/gmlang/CoinDataSchool/pytips/numpy/01-vector-matrix-basics.ipynb#X30sZmlsZQ%3D%3D?line=3'>4</a>\u001b[0m np\u001b[39m.\u001b[39;49mdot(row_v1, row_v2)\n",
      "File \u001b[0;32m<__array_function__ internals>:180\u001b[0m, in \u001b[0;36mdot\u001b[0;34m(*args, **kwargs)\u001b[0m\n",
      "\u001b[0;31mValueError\u001b[0m: shapes (1,3) and (1,3) not aligned: 3 (dim 1) != 1 (dim 0)"
     ]
    }
   ],
   "source": [
    "# dot product of row vectors, read the error message\n",
    "row_v1 = np.array([[1, 2, 3]])\n",
    "row_v2 = np.array([[4, 5, 6]])\n",
    "np.dot(row_v1, row_v2)"
   ]
  },
  {
   "cell_type": "code",
   "execution_count": null,
   "metadata": {},
   "outputs": [
    {
     "name": "stdout",
     "output_type": "stream",
     "text": [
      "[[32]]\n",
      "[[32]]\n"
     ]
    }
   ],
   "source": [
    "# dot product of row vectors, no errors\n",
    "res1 = np.dot(row_v1, row_v2.T) # returns a 2D array of dimension 1x1 instead of a scala\n",
    "print(res1)\n",
    "res2 = np.dot(row_v2, row_v1.T) # returns a 2D array of dimension 1x1 instead of a scala\n",
    "print(res2)"
   ]
  },
  {
   "cell_type": "code",
   "execution_count": null,
   "metadata": {},
   "outputs": [
    {
     "ename": "ValueError",
     "evalue": "shapes (3,1) and (3,1) not aligned: 1 (dim 1) != 3 (dim 0)",
     "output_type": "error",
     "traceback": [
      "\u001b[0;31m---------------------------------------------------------------------------\u001b[0m",
      "\u001b[0;31mValueError\u001b[0m                                Traceback (most recent call last)",
      "\u001b[1;32m/Users/gmlang/CoinDataSchool/pytips/numpy/01-vector-matrix-basics.ipynb Cell 26\u001b[0m line \u001b[0;36m2\n\u001b[1;32m      <a href='vscode-notebook-cell:/Users/gmlang/CoinDataSchool/pytips/numpy/01-vector-matrix-basics.ipynb#X32sZmlsZQ%3D%3D?line=0'>1</a>\u001b[0m \u001b[39m# dot product of col vectors\u001b[39;00m\n\u001b[0;32m----> <a href='vscode-notebook-cell:/Users/gmlang/CoinDataSchool/pytips/numpy/01-vector-matrix-basics.ipynb#X32sZmlsZQ%3D%3D?line=1'>2</a>\u001b[0m np\u001b[39m.\u001b[39;49mdot(row_v1\u001b[39m.\u001b[39;49mT, row_v2\u001b[39m.\u001b[39;49mT)\n",
      "File \u001b[0;32m<__array_function__ internals>:180\u001b[0m, in \u001b[0;36mdot\u001b[0;34m(*args, **kwargs)\u001b[0m\n",
      "\u001b[0;31mValueError\u001b[0m: shapes (3,1) and (3,1) not aligned: 1 (dim 1) != 3 (dim 0)"
     ]
    }
   ],
   "source": [
    "# dot product of col vectors, read the error message\n",
    "np.dot(row_v1.T, row_v2.T)"
   ]
  },
  {
   "cell_type": "code",
   "execution_count": null,
   "metadata": {},
   "outputs": [
    {
     "data": {
      "text/plain": [
       "array([[5, 5]])"
      ]
     },
     "execution_count": 94,
     "metadata": {},
     "output_type": "execute_result"
    }
   ],
   "source": [
    "# multiply a row vector by a matrix\n",
    "row_vec = np.array([1, 2, 3]).reshape(1, -1) # 1 x 3\n",
    "mat = np.array([[-1, 0],\n",
    "                [0, 1],\n",
    "                [2, 1]]) # 3 x 2\n",
    "np.matmul(row_vec, mat)  # 1 x 2"
   ]
  },
  {
   "cell_type": "code",
   "execution_count": null,
   "metadata": {},
   "outputs": [
    {
     "data": {
      "text/plain": [
       "array([[-7],\n",
       "       [14]])"
      ]
     },
     "execution_count": 98,
     "metadata": {},
     "output_type": "execute_result"
    }
   ],
   "source": [
    "# multiply a matrix by a col vector\n",
    "col_vec = np.array([5, 10, -2]).reshape(-1, 1) # 3 x 1\n",
    "mat = np.array([[-1, 0, 1],\n",
    "                [0, 1, -2]]) # 2 x 3\n",
    "np.matmul(mat, col_vec)  # 2 x 1"
   ]
  },
  {
   "cell_type": "code",
   "execution_count": null,
   "metadata": {},
   "outputs": [
    {
     "name": "stdout",
     "output_type": "stream",
     "text": [
      "matrix1:\n",
      "[[0 1]\n",
      " [2 3]\n",
      " [4 5]\n",
      " [6 7]\n",
      " [8 9]]\n",
      "\n",
      "matrix2:\n",
      "[[-3 -2 -1  0]\n",
      " [ 1  2  3  4]]\n",
      "\n",
      "matrix1 x matrix2:\n",
      "[[  1   2   3   4]\n",
      " [ -3   2   7  12]\n",
      " [ -7   2  11  20]\n",
      " [-11   2  15  28]\n",
      " [-15   2  19  36]]\n"
     ]
    }
   ],
   "source": [
    "# multiply a matrix by a matrix\n",
    "mat1 = np.arange(10).reshape(5, 2)\n",
    "print(f\"matrix1:\\n{mat1}\\n\")\n",
    "mat2 = np.arange(-3, 5).reshape(2, 4)\n",
    "print(f\"matrix2:\\n{mat2}\\n\")\n",
    "res = np.matmul(mat1, mat2)\n",
    "print(f\"matrix1 x matrix2:\\n{res}\")"
   ]
  },
  {
   "cell_type": "markdown",
   "metadata": {},
   "source": [
    "### Summary\n",
    "\n",
    "This notebook demonstrates the basics of vectors and matrices in `numpy.array()`. \n",
    "\n",
    "### Referral\n",
    "\n",
    "- Digital Ocean is a cloud computing platform where you can rent remote servers for cheap. \n",
    "  I have my remote data science server there. You can do the same and [get $200 credit](https://m.do.co/c/0a435cb96813). "
   ]
  },
  {
   "cell_type": "markdown",
   "metadata": {},
   "source": []
  }
 ],
 "metadata": {
  "kernelspec": {
   "display_name": "Python 3 (ipykernel)",
   "language": "python",
   "name": "python3"
  },
  "language_info": {
   "codemirror_mode": {
    "name": "ipython",
    "version": 3
   },
   "file_extension": ".py",
   "mimetype": "text/x-python",
   "name": "python",
   "nbconvert_exporter": "python",
   "pygments_lexer": "ipython3",
   "version": "3.10.8"
  }
 },
 "nbformat": 4,
 "nbformat_minor": 4
}
